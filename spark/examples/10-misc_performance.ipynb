{
  "cells": [
    {
      "cell_type": "markdown",
      "metadata": {
        "id": "view-in-github",
        "colab_type": "text"
      },
      "source": [
        "<a href=\"https://colab.research.google.com/github/mdias23i/DE-DataProcessing/blob/main/spark/examples/10-misc_performance.ipynb\" target=\"_parent\"><img src=\"https://colab.research.google.com/assets/colab-badge.svg\" alt=\"Open In Colab\"/></a>"
      ]
    },
    {
      "cell_type": "markdown",
      "metadata": {
        "id": "hyDay-zKVX3g"
      },
      "source": [
        "<a href=\"https://colab.research.google.com/github/lucprosa/dataeng-basic-course/blob/main/spark/examples/10-misc_performance.ipynb\" target=\"_parent\"><img src=\"https://colab.research.google.com/assets/colab-badge.svg\" alt=\"Open In Colab\"/></a>"
      ]
    },
    {
      "cell_type": "markdown",
      "metadata": {
        "id": "BOA_wQSmLd9z"
      },
      "source": [
        "# Miscellaneos Performance tricks\n",
        "- cache() & persist()\n",
        "- broadcast join\n",
        "- repartition & coalesce\n",
        "- explain"
      ]
    },
    {
      "cell_type": "markdown",
      "metadata": {
        "id": "d9LeYFsPTjAb"
      },
      "source": [
        "# Setting up PySpark"
      ]
    },
    {
      "cell_type": "code",
      "execution_count": null,
      "metadata": {
        "colab": {
          "base_uri": "https://localhost:8080/"
        },
        "id": "uYXeODL0T1fO",
        "outputId": "c410e46c-4a50-43aa-926f-d0417c6280d2"
      },
      "outputs": [
        {
          "name": "stdout",
          "output_type": "stream",
          "text": [
            "Requirement already satisfied: pyspark in /usr/local/lib/python3.10/dist-packages (3.5.3)\n",
            "Requirement already satisfied: py4j==0.10.9.7 in /usr/local/lib/python3.10/dist-packages (from pyspark) (0.10.9.7)\n"
          ]
        }
      ],
      "source": [
        "%pip install pyspark"
      ]
    },
    {
      "cell_type": "code",
      "execution_count": 1,
      "metadata": {
        "id": "637HFw00T3LP"
      },
      "outputs": [],
      "source": [
        "from pyspark.sql import SparkSession\n",
        "spark = SparkSession.builder.master('local').appName('Spark Course').getOrCreate()"
      ]
    },
    {
      "cell_type": "markdown",
      "metadata": {
        "id": "Vj3Cg2riVX3m"
      },
      "source": [
        "# Preparing data"
      ]
    },
    {
      "cell_type": "code",
      "execution_count": 2,
      "metadata": {
        "id": "z-caHS2MVX3m"
      },
      "outputs": [],
      "source": [
        "from pyspark import SparkFiles\n",
        "from pyspark.sql.types import *\n",
        "\n",
        "# Setting up URLs\n",
        "squirrel_url = \"https://raw.githubusercontent.com/lucprosa/dataeng-basic-course/main/data/squirrel-data/squirrel-data.csv\"\n",
        "park_url = \"https://raw.githubusercontent.com/lucprosa/dataeng-basic-course/main/data/squirrel-data/park-data.csv\"\n",
        "\n",
        "\n",
        "# Defining schemas\n",
        "squirrel_schema = StructType([\n",
        "StructField('Area Name',StringType(),True),\n",
        "StructField('Area ID',StringType(),True),\n",
        "StructField('Park Name',StringType(),True),\n",
        "StructField('Park ID', StringType(), True),\n",
        "StructField('Squirrel ID', StringType(), True),\n",
        "StructField('Primary Fur Color', StringType(), True),\n",
        "StructField('Highlights in Fur Color', StringType(), True),\n",
        "StructField('Color Notes', StringType(), True),\n",
        "StructField('Location', StringType(), True),\n",
        "StructField('Above Ground (Height in Feet)', StringType(), True),\n",
        "StructField('Specific Location', StringType(), True),\n",
        "StructField('Activities', StringType(), True),\n",
        "StructField('Interactions with Humans', StringType(), True),\n",
        "StructField('Squirrel Latitude (DD.DDDDDD)', StringType(), True),\n",
        "StructField('Squirrel Longitude (-DD.DDDDDD)', StringType(), True)\n",
        "])\n",
        "\n",
        "park_schema = StructType([\n",
        "StructField('Area Name',StringType(),True),\n",
        "StructField('Area ID',StringType(),True),\n",
        "StructField('Park Name',StringType(),True),\n",
        "StructField('Park ID', StringType(), True),\n",
        "StructField('Date', StringType(), True),\n",
        "StructField('Start Time', StringType(), True),\n",
        "StructField('End Time', StringType(), True),\n",
        "StructField('Total Time (in minutes, if available)', StringType(), True),\n",
        "StructField('Park Conditions', StringType(), True),\n",
        "StructField('Other Animal Sightings', StringType(), True),\n",
        "StructField('Litter', StringType(), True),\n",
        "StructField('Activities', StringType(), True),\n",
        "StructField('Temperature & Weather', StringType(), True),\n",
        "StructField('Number of Squirrels', IntegerType(), True),\n",
        "StructField('Squirrel Sighter(s)', StringType(), True),\n",
        "StructField('Number of Sighters', IntegerType(), True)\n",
        "])\n",
        "\n",
        "area_schema = StructType([\n",
        "StructField('Area ID',StringType(),True),\n",
        "StructField('Area Name',StringType(),True),\n",
        "StructField('Area Description',StringType(),True),\n",
        "StructField('City Name',StringType(),True),\n",
        "])\n",
        "\n",
        "area_data = [\n",
        "    (\"A\", \"UPPER MANHATTAN\", \"Uptown Manhattan\", \"New York\"),\n",
        "    (\"B\", \"CENTRAL MANHATTAN\", \"Midtown Manhattan\", \"New York\"),\n",
        "    (\"C\", \"LOWER MANHATTAN\", \"Downtown Manhattan\", \"New York\"),\n",
        "    (\"D\", \"BROOKLYN\", \"Brooklyn\", \"New York\")\n",
        "    ]\n",
        "\n",
        "spark.sparkContext.addFile(squirrel_url)\n",
        "spark.sparkContext.addFile(park_url)\n",
        "\n",
        "# creating dataframes\n",
        "squirrel = spark.read.csv(SparkFiles.get(\"squirrel-data.csv\"), header=True, schema=squirrel_schema)\n",
        "park = spark.read.csv(SparkFiles.get(\"park-data.csv\"), header=True, schema=park_schema)\n",
        "area = spark.createDataFrame(data=area_data, schema=area_schema)"
      ]
    },
    {
      "cell_type": "code",
      "execution_count": 3,
      "metadata": {
        "id": "e1jkoWpweDqW",
        "outputId": "819fd4a1-44d8-4d98-cb93-736aaf277eb3",
        "colab": {
          "base_uri": "https://localhost:8080/"
        }
      },
      "outputs": [
        {
          "output_type": "stream",
          "name": "stdout",
          "text": [
            "+---------------+-------+-------------------+-------+-----------+-----------------+-----------------------+-----------+------------+-----------------------------+-----------------+--------------------+------------------------+-----------------------------+-------------------------------+\n",
            "|      Area Name|Area ID|          Park Name|Park ID|Squirrel ID|Primary Fur Color|Highlights in Fur Color|Color Notes|    Location|Above Ground (Height in Feet)|Specific Location|          Activities|Interactions with Humans|Squirrel Latitude (DD.DDDDDD)|Squirrel Longitude (-DD.DDDDDD)|\n",
            "+---------------+-------+-------------------+-------+-----------+-----------------+-----------------------+-----------+------------+-----------------------------+-----------------+--------------------+------------------------+-----------------------------+-------------------------------+\n",
            "|UPPER MANHATTAN|      A|    Fort Tryon Park|     01|    A-01-01|             Gray|                  White|       NULL|Ground Plane|                         NULL|             NULL|            Foraging|             Indifferent|                         NULL|                       40.85941|\n",
            "|UPPER MANHATTAN|      A|    Fort Tryon Park|     01|    A-01-02|             Gray|                  White|       NULL|Ground Plane|                         NULL|             NULL|            Foraging|             Indifferent|                 Looks skinny|                      40.859436|\n",
            "|UPPER MANHATTAN|      A|    Fort Tryon Park|     01|    A-01-03|             Gray|                  White|       NULL|Ground Plane|                         NULL|             NULL|Eating, Digging s...|             Indifferent|                         NULL|                      40.859416|\n",
            "|UPPER MANHATTAN|      A|    Fort Tryon Park|     01|    A-01-04|             Gray|                  White|       NULL|Ground Plane|                         NULL|             NULL|             Running|             Indifferent|                         NULL|                      40.859418|\n",
            "|UPPER MANHATTAN|      A|    Fort Tryon Park|     01|    A-01-05|             Gray|               Cinnamon|       NULL|Ground Plane|                         NULL|             NULL|     Running, Eating|             Indifferent|                She left food|                      40.859493|\n",
            "|UPPER MANHATTAN|      A|    Fort Tryon Park|     01|    A-01-06|             Gray|               Cinnamon|       NULL|Ground Plane|                         NULL|             NULL|            Climbing|             Indifferent|                         NULL|                      40.860825|\n",
            "|UPPER MANHATTAN|      A|    Fort Tryon Park|     01|    A-01-07|             Gray|                  White|       NULL|Ground Plane|                         NULL|             NULL|            Foraging|             Indifferent|                         NULL|                      40.860225|\n",
            "|UPPER MANHATTAN|      A|    Fort Tryon Park|     01|    A-01-08|            Black|                   Gray|       NULL|Above Ground|                           10|             NULL|            Climbing|               Runs From|                         NULL|                      40.859965|\n",
            "|UPPER MANHATTAN|      A|    Fort Tryon Park|     01|    A-01-09|             Gray|                  White|       NULL|Ground Plane|                         NULL|             NULL|            Foraging|             Indifferent|                         NULL|                      40.859892|\n",
            "|UPPER MANHATTAN|      A|    Fort Tryon Park|     01|    A-01-10|             Gray|                  White|       NULL|Ground Plane|                         NULL|             NULL|     Eating, Digging|             Indifferent|                         NULL|                      40.859636|\n",
            "|UPPER MANHATTAN|      A|    Fort Tryon Park|     01|    A-01-11|             Gray|                  Black|       NULL|Ground Plane|                         NULL|             NULL|     Eating, Digging|             Indifferent|         was intimidated b...|                      40.859576|\n",
            "|UPPER MANHATTAN|      A|    Fort Tryon Park|     01|    A-01-12|             Gray|                  White|       NULL|Ground Plane|                         NULL|             NULL|             Running|               Runs From|                         NULL|                      40.859989|\n",
            "|UPPER MANHATTAN|      A|J. Hood Wright Park|     02|    A-02-01|             Gray|                   Gray|       NULL|Ground Plane|                         NULL|             NULL|             Running|             Indifferent|                         NULL|                      40.845749|\n",
            "|UPPER MANHATTAN|      A|J. Hood Wright Park|     02|    A-02-02|             Gray|               Cinnamon|       NULL|Above Ground|                            2|             NULL|            Foraging|             Indifferent|                         NULL|                      40.845875|\n",
            "|UPPER MANHATTAN|      A|J. Hood Wright Park|     02|    A-02-03|             Gray|               Cinnamon|       NULL|Ground Plane|                         NULL|             NULL|            Foraging|                    NULL|                         NULL|                      40.845875|\n",
            "|UPPER MANHATTAN|      A|J. Hood Wright Park|     02|    A-02-04|             Gray|               Cinnamon|       NULL|Ground Plane|                         NULL|             NULL|             Running|             Indifferent|                         NULL|                      40.846088|\n",
            "|UPPER MANHATTAN|      A|J. Hood Wright Park|     02|    A-02-05|             Gray|               Cinnamon|       NULL|Ground Plane|                         NULL|             NULL|             Running|               Runs From|                         NULL|                      40.846088|\n",
            "|UPPER MANHATTAN|      A|J. Hood Wright Park|     02|    A-02-06|             Gray|               Cinnamon|       NULL|Ground Plane|                         NULL|             NULL|            Foraging|             Indifferent|                         NULL|                      40.846088|\n",
            "|UPPER MANHATTAN|      A|J. Hood Wright Park|     02|    A-02-07|             Gray|                   Gray|       NULL|Ground Plane|                         NULL|             NULL|                NULL|               Runs From|                         NULL|                      40.846222|\n",
            "|UPPER MANHATTAN|      A|J. Hood Wright Park|     02|    A-02-08|             Gray|               Cinnamon|       NULL|Ground Plane|                         NULL|             NULL|Foraging, Nesting...|             Indifferent|                         NULL|                      40.846222|\n",
            "+---------------+-------+-------------------+-------+-----------+-----------------+-----------------------+-----------+------------+-----------------------------+-----------------+--------------------+------------------------+-----------------------------+-------------------------------+\n",
            "only showing top 20 rows\n",
            "\n",
            "+-----------------+-------+--------------------+-------+------+----------+----------+-------------------------------------+--------------------+----------------------+--------------------+--------------------+---------------------+-------------------+-------------------+------------------+\n",
            "|        Area Name|Area ID|           Park Name|Park ID|  Date|Start Time|  End Time|Total Time (in minutes, if available)|     Park Conditions|Other Animal Sightings|              Litter|          Activities|Temperature & Weather|Number of Squirrels|Squirrel Sighter(s)|Number of Sighters|\n",
            "+-----------------+-------+--------------------+-------+------+----------+----------+-------------------------------------+--------------------+----------------------+--------------------+--------------------+---------------------+-------------------+-------------------+------------------+\n",
            "|  UPPER MANHATTAN|      A|     Fort Tryon Park|     01|3/1/20|3:14:00 PM|4:05:00 PM|                                   51|                Busy|  Humans, Dogs, Pig...|                Some|   43 degrees, sunny|                   12|               NULL|                  4|              NULL|\n",
            "|  UPPER MANHATTAN|      A| J. Hood Wright Park|     02|3/1/20|3:30:00 PM|4:00:00 PM|                                   30|                Calm|  Humans, Hawks, Do...|      Some, in trees|         cold, clear|                   24|               NULL|                  2|              NULL|\n",
            "|  UPPER MANHATTAN|      A|     Highbridge Park|     03|3/1/20|3:21:00 PM|4:15:00 PM|                                   54|Calm, pick-up bas...|  Humans, Dogs (3, ...|Some, especially ...|          43 degrees|                   16|               NULL|                  3|              NULL|\n",
            "|  UPPER MANHATTAN|      A|   St. Nicholas Park|     04|3/1/20|3:15:00 PM|3:45:00 PM|                                   30|                Calm|          Humans, Dogs|Some, backside of...|   43 degrees, clear|                   15|               NULL|                  3|              NULL|\n",
            "|  UPPER MANHATTAN|      A|Riverside Park (s...|     05|3/1/20|3:15:00 PM|3:45:00 PM|                                   30|                Calm|          Humans, Dogs|                NULL|                NULL|                   28|               NULL|                  3|              NULL|\n",
            "|  UPPER MANHATTAN|      A|  Marcus Garvey Park|     06|3/1/20|3:45:00 PM|4:15:00 PM|                                   30|Calm, re: humans,...|  Hawks, Dogs, Pigeons|            Abundant|   42 degrees, clear|                   34|                 16|                  1|              NULL|\n",
            "|CENTRAL MANHATTAN|      B| Madison Square Park|     07|3/1/20|2:30:00 PM|3:50:00 PM|                                   80|                Busy|  Humans, Dogs, Pig...|                NULL|   43 degrees, sunny|                   11|               NULL|                  4|              NULL|\n",
            "|CENTRAL MANHATTAN|      B|   Union Square Park|     08|3/1/20|3:15:00 PM|3:45:00 PM|                                   30|                Busy|  Humans, Dogs, Pig...|                NULL|   40 degrees, sunny|                   16|               NULL|                  4|              NULL|\n",
            "|CENTRAL MANHATTAN|      B|Stuyvesant Square...|     09|3/1/20|3:00:00 PM|4:00:00 PM|                                   60|Calm, 20���30 ppl...|  Humans, Dogs, Spa...|                Some|   45 degrees, sunny|                   25|               NULL|                  2|              NULL|\n",
            "|CENTRAL MANHATTAN|      B|Washington Square...|     10|3/1/20|3:20:00 PM|4:00:00 PM|                                   40|                Busy|          Humans, Dogs|                None|45 degrees, sunny...|                   51|               NULL|                  2|              NULL|\n",
            "|CENTRAL MANHATTAN|      B|Tompkins Square Park|     11|3/1/20|3:15:00 PM|3:45:00 PM|                                   30|                NULL|                  NULL|                NULL|                NULL|                   59|               NULL|                  2|              NULL|\n",
            "|CENTRAL MANHATTAN|      B|John V. Lindsay E...|     12|3/1/20|3:01:00 PM|3:45:00 PM|                                   44|                Calm|  Humans (Joggers, ...|                NULL|        windy, clear|                   12|                 31|                  1|              NULL|\n",
            "|  LOWER MANHATTAN|      C|Sara D. Roosevelt...|   13.1|3/1/20|3:30:00 PM|4:00:00 PM|                                   30|                Busy|   Humans, Dogs (Gray)|                Some|   44 degrees, sunny|                    0|               NULL|                  3|              NULL|\n",
            "|  LOWER MANHATTAN|      C|Sara D. Roosevelt...|   13.2|3/1/20|3:30:00 PM|4:00:00 PM|                                   30|                Busy|       Humans, Pigeons|                Some|   43 degrees, sunny|                    0|               NULL|                  3|              NULL|\n",
            "|  LOWER MANHATTAN|      C|         Seward Park|     14|3/1/20|3:25:00 PM|3:55:00 PM|                                   30|                Busy|       Humans, Pigeons|                Some|   40 degrees, sunny|                    7|               NULL|                  4|              NULL|\n",
            "|  LOWER MANHATTAN|      C|  Corlears Hook Park|     15|3/1/20|3:35:00 PM|4:15:00 PM|                                   40|                Calm|  Humans, Dogs, Pig...|Some, mostly in t...|   48 degrees, sunny|                   16|               NULL|                  3|              NULL|\n",
            "|  LOWER MANHATTAN|      C|       Columbus Park|     16|3/1/20|3:47:00 PM|4:38:00 PM|                                   51|                Busy|  Humans, Dogs, Pig...|                None|42 degrees, windy...|                    4|               NULL|                  2|              NULL|\n",
            "|  LOWER MANHATTAN|      C|   Thomas Paine Park|     17|3/1/20|3:35:00 PM|3:45:00 PM|                                   10|                Calm|  Humans, Dogs, Pig...|                None|42 degrees, windy...|                    0|               NULL|                  2|              NULL|\n",
            "|  LOWER MANHATTAN|      C|       Teardrop Park|     18|3/1/20|3:37:00 PM|4:00:00 PM|                                   23|                NULL|  Humans, Dogs, Fis...|                Some|43 degrees, sunny...|                    1|               NULL|                  2|              NULL|\n",
            "|  LOWER MANHATTAN|      C|      City Hall Park|     19|3/1/20|3:34:00 PM|4:04:00 PM|                                   30|                Calm|  Humans, Pigeons, Cat|                None|   44 degrees, sunny|                   18|               NULL|                  2|              NULL|\n",
            "+-----------------+-------+--------------------+-------+------+----------+----------+-------------------------------------+--------------------+----------------------+--------------------+--------------------+---------------------+-------------------+-------------------+------------------+\n",
            "only showing top 20 rows\n",
            "\n",
            "+-------+-----------------+------------------+---------+\n",
            "|Area ID|        Area Name|  Area Description|City Name|\n",
            "+-------+-----------------+------------------+---------+\n",
            "|      A|  UPPER MANHATTAN|  Uptown Manhattan| New York|\n",
            "|      B|CENTRAL MANHATTAN| Midtown Manhattan| New York|\n",
            "|      C|  LOWER MANHATTAN|Downtown Manhattan| New York|\n",
            "|      D|         BROOKLYN|          Brooklyn| New York|\n",
            "+-------+-----------------+------------------+---------+\n",
            "\n"
          ]
        }
      ],
      "source": [
        "# show data\n",
        "squirrel.show()\n",
        "park.show()\n",
        "area.show()"
      ]
    },
    {
      "cell_type": "code",
      "source": [
        "!pip install pytictoc"
      ],
      "metadata": {
        "id": "XyPWwGNcgiI2",
        "outputId": "c6c83bd0-561d-4f01-91d4-7b811b004c5e",
        "colab": {
          "base_uri": "https://localhost:8080/"
        }
      },
      "execution_count": 6,
      "outputs": [
        {
          "output_type": "stream",
          "name": "stdout",
          "text": [
            "Collecting pytictoc\n",
            "  Downloading pytictoc-1.5.3-py2.py3-none-any.whl.metadata (2.9 kB)\n",
            "Downloading pytictoc-1.5.3-py2.py3-none-any.whl (4.0 kB)\n",
            "Installing collected packages: pytictoc\n",
            "Successfully installed pytictoc-1.5.3\n"
          ]
        }
      ]
    },
    {
      "cell_type": "markdown",
      "source": [
        "# Caching & Persist"
      ],
      "metadata": {
        "id": "9xipEQu1aUcx"
      }
    },
    {
      "cell_type": "code",
      "source": [
        "# Caching\n",
        "# Default: MEMORY_AND_DISK\n",
        "\n",
        "import uuid\n",
        "from pyspark.sql.functions import udf\n",
        "from pytictoc import TicToc\n",
        "\n",
        "t = TicToc()\n",
        "t.tic()\n",
        "\n",
        "@udf\n",
        "def generate_uuid():\n",
        "  return str(uuid.uuid4())\n",
        "\n",
        "# transformation 1\n",
        "squirrel = squirrel.withColumn(\"hash_id\", generate_uuid())\n",
        "\n",
        "# transformation 2\n",
        "squirrel = squirrel.dropDuplicates()\n",
        "\n",
        "squirrel.cache().count() #<--------------- force an action to run the cache\n",
        "\n",
        "# transformations N\n",
        "# squirrel = squirrel.join...\n",
        "# squirrel = squirrel.groupBy...\n",
        "\n",
        "# DAG\n",
        "# T1 -> T2 -> T3...TN -> A1\n",
        "\n",
        "# action 1\n",
        "# squirrel.write.format(\"parquet\").path(\"path\")\n",
        "\n",
        "t.toc()\n"
      ],
      "metadata": {
        "id": "mOOh51r6WmDj",
        "outputId": "de015547-8bc6-4cc7-b9dd-539aaea2246b",
        "colab": {
          "base_uri": "https://localhost:8080/"
        }
      },
      "execution_count": 8,
      "outputs": [
        {
          "output_type": "stream",
          "name": "stdout",
          "text": [
            "Elapsed time is 49.466399 seconds.\n"
          ]
        }
      ]
    },
    {
      "cell_type": "code",
      "source": [
        "squirrel.is_cached"
      ],
      "metadata": {
        "id": "NTrdLhFlY0NU",
        "outputId": "30eda0dc-de54-4f67-afe8-cae647d9387b",
        "colab": {
          "base_uri": "https://localhost:8080/"
        }
      },
      "execution_count": 12,
      "outputs": [
        {
          "output_type": "execute_result",
          "data": {
            "text/plain": [
              "False"
            ]
          },
          "metadata": {},
          "execution_count": 12
        }
      ]
    },
    {
      "cell_type": "code",
      "execution_count": 10,
      "metadata": {
        "colab": {
          "base_uri": "https://localhost:8080/"
        },
        "id": "9yEpZwS_QtJ1",
        "outputId": "4e277275-58e6-47e4-f046-ce9e597574ed"
      },
      "outputs": [
        {
          "output_type": "stream",
          "name": "stdout",
          "text": [
            "+-----------------+-------+--------------------+-------+-----------+-----------------+-----------------------+-----------+--------------------+-----------------------------+--------------------+--------------------+------------------------+-----------------------------+-------------------------------+--------------------+\n",
            "|        Area Name|Area ID|           Park Name|Park ID|Squirrel ID|Primary Fur Color|Highlights in Fur Color|Color Notes|            Location|Above Ground (Height in Feet)|   Specific Location|          Activities|Interactions with Humans|Squirrel Latitude (DD.DDDDDD)|Squirrel Longitude (-DD.DDDDDD)|             hash_id|\n",
            "+-----------------+-------+--------------------+-------+-----------+-----------------+-----------------------+-----------+--------------------+-----------------------------+--------------------+--------------------+------------------------+-----------------------------+-------------------------------+--------------------+\n",
            "|  LOWER MANHATTAN|      C|         Seward Park|     14|    C-14-06|             Gray|               Cinnamon|       NULL|        Ground Plane|                         NULL|                NULL|    Running, Chasing|             Indifferent|         Medium bushy, may...|                      40.715033|2032e52a-3202-4b8...|\n",
            "|CENTRAL MANHATTAN|      B|Tompkins Square Park|     11|    B-11-53|             Gray|                   Gray|       NULL|        Ground Plane|                         NULL|                NULL|            Foraging|             Indifferent|                         NULL|                           NULL|095eaad4-0d99-403...|\n",
            "|  UPPER MANHATTAN|      A|     Highbridge Park|     03|    A-03-05|             Gray|               Cinnamon|       NULL|        Ground Plane|                         NULL|                NULL|             Running|               Runs From|         #5, #6 & #7 toget...|                      40.841359|9d788362-3c27-4c8...|\n",
            "|  UPPER MANHATTAN|      A|  Marcus Garvey Park|     06|    A-06-17|             Gray|                   Gray|       NULL|        Ground Plane|                         NULL|                NULL|             Running|                    NULL|         Scampered across ...|                      40.803758|c5772eb1-2d22-476...|\n",
            "|  LOWER MANHATTAN|      C|       Columbus Park|     16|    C-16-04|             Gray|                   NULL|       NULL|        Above Ground|                           35|                NULL|            Climbing|              Approaches|            Patchy bald spots|                      40.715779|a8382e18-db83-4b8...|\n",
            "|CENTRAL MANHATTAN|      B|Tompkins Square Park|     11|    B-11-20|             Gray|                   Gray|       NULL|        Ground Plane|                         NULL|                NULL|            Foraging|             Indifferent|                         NULL|                           NULL|e3569d14-d059-410...|\n",
            "|  UPPER MANHATTAN|      A|  Marcus Garvey Park|     06|    A-06-29|             Gray|                   Gray|       NULL|        Above Ground|                            6|                NULL|   Chasing, Climbing|               Runs From|                         NULL|                       40.80352|42d26e18-0522-4a9...|\n",
            "|CENTRAL MANHATTAN|      B|Washington Square...|     10|    B-10-31|             Gray|                   NULL|       NULL|                NULL|                         NULL|                NULL|                NULL|             Indifferent|                         NULL|                      40.731031|02d09d8d-301b-43d...|\n",
            "|  UPPER MANHATTAN|      A|  Marcus Garvey Park|     06|    A-06-24|             Gray|                   Gray|       NULL|        Above Ground|                         NULL|                NULL|Defending tree, s...|    Indifferent, Preo...|         HAWK. Same scene ...|                      40.803794|d51ea0b0-0972-428...|\n",
            "|  LOWER MANHATTAN|      C|      City Hall Park|     19|    C-19-09|             Gray|                   Gray|       NULL|        Above Ground|                            5|                NULL|  Climbing, Foraging|    Indifferent, Runs...|         Perched in a bush...|                      40.712836|506f652b-caa2-42d...|\n",
            "|         BROOKLYN|      D|       McCarren Park|     22|    D-22-18|         Cinnamon|               Cinnamon|       NULL|        Above Ground|                           14|                NULL|             Hanging|             Indifferent|            Perched on branch|                      40.722603|7e26b329-470b-4b6...|\n",
            "|CENTRAL MANHATTAN|      B|Tompkins Square Park|     11|    B-11-47|             Gray|                   Gray|       NULL|        Ground Plane|                         NULL|                NULL|            Foraging|             Indifferent|                         NULL|                           NULL|c7f90d81-99ca-415...|\n",
            "|  UPPER MANHATTAN|      A|  Marcus Garvey Park|     06|    A-06-02|             Gray|                   Gray|       NULL|        Above Ground|                         2040|                NULL|            Climbing|             Indifferent|         HAWK. HAAAAAWK. A...|                      40.804912|222081f1-cf12-406...|\n",
            "|  UPPER MANHATTAN|      A|  Marcus Garvey Park|     06|    A-06-28|             Gray|                   Gray|       NULL|        Above Ground|                            3|                NULL|              Eating|             Indifferent|                         NULL|                       40.80362|6d001b30-6b1c-473...|\n",
            "|  LOWER MANHATTAN|      C|  Corlears Hook Park|     15|    C-15-06|             Gray|                   NULL|       NULL|        Above Ground|                           15|                NULL|      Ear scratching|                    NULL|                         NULL|                      40.712224|77aa217b-4c36-467...|\n",
            "|  UPPER MANHATTAN|      A|   St. Nicholas Park|     04|    A-04-14|             Gray|                   Gray|       NULL|        Ground Plane|                         NULL|                NULL|            Foraging|             Indifferent|                         NULL|                      40.818308|82cb261f-5527-4f4...|\n",
            "|CENTRAL MANHATTAN|      B|John V. Lindsay E...|     12|    B-12-02|            Black|                  Black|       NULL|        Ground Plane|                         NULL|                NULL|Running, Eating (...|                    NULL|                         NULL|                      40.722614|d7f94066-3c94-440...|\n",
            "|  UPPER MANHATTAN|      A|Riverside Park (S...|     05|    A-05-08|             Gray|                   Gray|       NULL|        Ground Plane|                         NULL|                NULL|              Eating|             Indifferent|                         NULL|                           NULL|e812cf43-b6f6-4a8...|\n",
            "|CENTRAL MANHATTAN|      B|John V. Lindsay E...|     12|    B-12-07|             Gray|                   Gray|       NULL|Ground Plane, Abo...|                            8|                NULL|  Climbing, Foraging|             Indifferent|                         NULL|                      40.719379|ec5ddaa4-4947-480...|\n",
            "|CENTRAL MANHATTAN|      B| Madison Square Park|     07|    B-07-06|             Gray|                   NULL|       NULL|Above Ground, Spe...|                           15|in old tree (oval...|             Sitting|             Indifferent|         #6 & #7 in same tree|                      40.742421|f93835fa-3caf-492...|\n",
            "+-----------------+-------+--------------------+-------+-----------+-----------------+-----------------------+-----------+--------------------+-----------------------------+--------------------+--------------------+------------------------+-----------------------------+-------------------------------+--------------------+\n",
            "only showing top 20 rows\n",
            "\n"
          ]
        }
      ],
      "source": [
        "squirrel.show()"
      ]
    },
    {
      "cell_type": "code",
      "source": [
        "squirrel.unpersist()"
      ],
      "metadata": {
        "id": "Cyol21etZ4EO",
        "outputId": "c59148bf-119b-4aa0-b8d1-63bb91842ed6",
        "colab": {
          "base_uri": "https://localhost:8080/"
        }
      },
      "execution_count": 11,
      "outputs": [
        {
          "output_type": "execute_result",
          "data": {
            "text/plain": [
              "DataFrame[Area Name: string, Area ID: string, Park Name: string, Park ID: string, Squirrel ID: string, Primary Fur Color: string, Highlights in Fur Color: string, Color Notes: string, Location: string, Above Ground (Height in Feet): string, Specific Location: string, Activities: string, Interactions with Humans: string, Squirrel Latitude (DD.DDDDDD): string, Squirrel Longitude (-DD.DDDDDD): string, hash_id: string]"
            ]
          },
          "metadata": {},
          "execution_count": 11
        }
      ]
    },
    {
      "cell_type": "code",
      "source": [
        "# Persist\n",
        "# Default: MEMORY_ONLY\n",
        "from pyspark.sql.functions import *\n",
        "from pyspark import StorageLevel\n",
        "\n",
        "# first execution plan\n",
        "print(area.explain(\"cost\"))\n",
        "\n",
        "area = area.withColumn(\"City shortname\", lit(\"NY\"))\n",
        "# second execution plan\n",
        "print(area.explain(\"cost\"))\n",
        "\n",
        "area = area.persist(StorageLevel.MEMORY_ONLY)\n",
        "area.count()\n",
        "\n",
        "# second execution plan\n",
        "area2 = area.withColumn(\"Teste\", lit(\"test\"))\n",
        "print(area2.explain(\"cost\"))\n",
        "\n",
        "print(area.storageLevel)\n",
        "print(area.is_cached)"
      ],
      "metadata": {
        "id": "cz63P4OGaR3T",
        "outputId": "adf2b4f9-4c50-4189-f91f-a4cd757e9ccb",
        "colab": {
          "base_uri": "https://localhost:8080/"
        }
      },
      "execution_count": 13,
      "outputs": [
        {
          "output_type": "stream",
          "name": "stdout",
          "text": [
            "== Optimized Logical Plan ==\n",
            "LogicalRDD [Area ID#62, Area Name#63, Area Description#64, City Name#65], false, Statistics(sizeInBytes=8.0 EiB)\n",
            "\n",
            "== Physical Plan ==\n",
            "*(1) Scan ExistingRDD[Area ID#62,Area Name#63,Area Description#64,City Name#65]\n",
            "\n",
            "\n",
            "None\n",
            "== Optimized Logical Plan ==\n",
            "Project [Area ID#62, Area Name#63, Area Description#64, City Name#65, NY AS City shortname#3024], Statistics(sizeInBytes=9.8 EiB)\n",
            "+- LogicalRDD [Area ID#62, Area Name#63, Area Description#64, City Name#65], false, Statistics(sizeInBytes=8.0 EiB)\n",
            "\n",
            "== Physical Plan ==\n",
            "*(1) Project [Area ID#62, Area Name#63, Area Description#64, City Name#65, NY AS City shortname#3024]\n",
            "+- *(1) Scan ExistingRDD[Area ID#62,Area Name#63,Area Description#64,City Name#65]\n",
            "\n",
            "\n",
            "None\n",
            "== Optimized Logical Plan ==\n",
            "Project [Area ID#62, Area Name#63, Area Description#64, City Name#65, City shortname#3024, test AS Teste#3190], Statistics(sizeInBytes=282.0 B)\n",
            "+- InMemoryRelation [Area ID#62, Area Name#63, Area Description#64, City Name#65, City shortname#3024], StorageLevel(memory, 1 replicas), Statistics(sizeInBytes=238.0 B, rowCount=4)\n",
            "      +- *(1) Project [Area ID#62, Area Name#63, Area Description#64, City Name#65, NY AS City shortname#3024]\n",
            "         +- *(1) Scan ExistingRDD[Area ID#62,Area Name#63,Area Description#64,City Name#65]\n",
            "\n",
            "== Physical Plan ==\n",
            "AdaptiveSparkPlan isFinalPlan=false\n",
            "+- Project [Area ID#62, Area Name#63, Area Description#64, City Name#65, City shortname#3024, test AS Teste#3190]\n",
            "   +- InMemoryTableScan [Area Description#64, Area ID#62, Area Name#63, City Name#65, City shortname#3024]\n",
            "         +- InMemoryRelation [Area ID#62, Area Name#63, Area Description#64, City Name#65, City shortname#3024], StorageLevel(memory, 1 replicas)\n",
            "               +- *(1) Project [Area ID#62, Area Name#63, Area Description#64, City Name#65, NY AS City shortname#3024]\n",
            "                  +- *(1) Scan ExistingRDD[Area ID#62,Area Name#63,Area Description#64,City Name#65]\n",
            "\n",
            "\n",
            "None\n",
            "Memory Serialized 1x Replicated\n",
            "True\n"
          ]
        }
      ]
    },
    {
      "cell_type": "code",
      "source": [
        "# Persist\n",
        "# Default: MEMORY_AND_DISK\n",
        "\n",
        "from pyspark.sql.functions import *\n",
        "from pyspark import StorageLevel\n",
        "\n",
        "# first execution plan\n",
        "print(area.explain(\"cost\"))\n",
        "\n",
        "area = area.withColumn(\"City shortname\", lit(\"NY\"))\n",
        "# second execution plan\n",
        "print(area.explain(\"cost\"))\n",
        "\n",
        "area = area.persist(StorageLevel.DISK_ONLY)\n",
        "area.count()\n",
        "\n",
        "# second execution plan\n",
        "area2 = area.withColumn(\"Teste\", lit(\"test\"))\n",
        "print(area2.explain(\"cost\"))\n",
        "\n",
        "print(area.storageLevel)\n",
        "print(area.is_cached)"
      ],
      "metadata": {
        "id": "Y8lWwqd4bK5Z"
      },
      "execution_count": null,
      "outputs": []
    },
    {
      "cell_type": "markdown",
      "source": [
        "# Broadcast Join"
      ],
      "metadata": {
        "id": "jG6-tBXIocwm"
      }
    },
    {
      "cell_type": "code",
      "execution_count": 14,
      "metadata": {
        "id": "Tshz4hV3S2Tx",
        "outputId": "46287705-9dd6-4cbd-9ca2-9f5b3f2caa27",
        "colab": {
          "base_uri": "https://localhost:8080/"
        }
      },
      "outputs": [
        {
          "output_type": "stream",
          "name": "stdout",
          "text": [
            "== Physical Plan ==\n",
            "AdaptiveSparkPlan isFinalPlan=false\n",
            "+- Project [Area Description#64, Park Name#32, Date#34, Squirrel ID#4]\n",
            "   +- BroadcastHashJoin [Area ID#1], [Area ID#62], Inner, BuildRight, false\n",
            "      :- Project [Area ID#1, Squirrel ID#4, Park Name#32, Date#34]\n",
            "      :  +- BroadcastHashJoin [Park ID#3], [Park ID#33], Inner, BuildRight, false\n",
            "      :     :- HashAggregate(keys=[Above Ground (Height in Feet)#9, Primary Fur Color#5, hash_id#1720, Location#8, Park ID#3, Specific Location#10, Squirrel ID#4, Area ID#1, Activities#11, Squirrel Latitude (DD.DDDDDD)#13, Color Notes#7, Area Name#0, Highlights in Fur Color#6, Interactions with Humans#12, Squirrel Longitude (-DD.DDDDDD)#14, Park Name#2], functions=[])\n",
            "      :     :  +- Exchange hashpartitioning(Above Ground (Height in Feet)#9, Primary Fur Color#5, hash_id#1720, Location#8, Park ID#3, Specific Location#10, Squirrel ID#4, Area ID#1, Activities#11, Squirrel Latitude (DD.DDDDDD)#13, Color Notes#7, Area Name#0, Highlights in Fur Color#6, Interactions with Humans#12, Squirrel Longitude (-DD.DDDDDD)#14, Park Name#2, 200), ENSURE_REQUIREMENTS, [plan_id=523]\n",
            "      :     :     +- HashAggregate(keys=[Above Ground (Height in Feet)#9, Primary Fur Color#5, hash_id#1720, Location#8, Park ID#3, Specific Location#10, Squirrel ID#4, Area ID#1, Activities#11, Squirrel Latitude (DD.DDDDDD)#13, Color Notes#7, Area Name#0, Highlights in Fur Color#6, Interactions with Humans#12, Squirrel Longitude (-DD.DDDDDD)#14, Park Name#2], functions=[])\n",
            "      :     :        +- Project [Area Name#0, Area ID#1, Park Name#2, Park ID#3, Squirrel ID#4, Primary Fur Color#5, Highlights in Fur Color#6, Color Notes#7, Location#8, Above Ground (Height in Feet)#9, Specific Location#10, Activities#11, Interactions with Humans#12, Squirrel Latitude (DD.DDDDDD)#13, Squirrel Longitude (-DD.DDDDDD)#14, pythonUDF0#3552 AS hash_id#1720]\n",
            "      :     :           +- BatchEvalPython [generate_uuid()#1719], [pythonUDF0#3552]\n",
            "      :     :              +- Filter (isnotnull(Park ID#3) AND isnotnull(Area ID#1))\n",
            "      :     :                 +- InMemoryTableScan [Area Name#0, Area ID#1, Park Name#2, Park ID#3, Squirrel ID#4, Primary Fur Color#5, Highlights in Fur Color#6, Color Notes#7, Location#8, Above Ground (Height in Feet)#9, Specific Location#10, Activities#11, Interactions with Humans#12, Squirrel Latitude (DD.DDDDDD)#13, Squirrel Longitude (-DD.DDDDDD)#14], [isnotnull(Park ID#3), isnotnull(Area ID#1)]\n",
            "      :     :                       +- InMemoryRelation [Area Name#0, Area ID#1, Park Name#2, Park ID#3, Squirrel ID#4, Primary Fur Color#5, Highlights in Fur Color#6, Color Notes#7, Location#8, Above Ground (Height in Feet)#9, Specific Location#10, Activities#11, Interactions with Humans#12, Squirrel Latitude (DD.DDDDDD)#13, Squirrel Longitude (-DD.DDDDDD)#14, hash_id#800], StorageLevel(disk, memory, deserialized, 1 replicas)\n",
            "      :     :                             +- AdaptiveSparkPlan isFinalPlan=true\n",
            "                                             +- == Final Plan ==\n",
            "                                                *(2) HashAggregate(keys=[Above Ground (Height in Feet)#9, Primary Fur Color#5, hash_id#800, Location#8, Park ID#3, Specific Location#10, Squirrel ID#4, Area ID#1, Activities#11, Squirrel Latitude (DD.DDDDDD)#13, Color Notes#7, Area Name#0, Highlights in Fur Color#6, Interactions with Humans#12, Squirrel Longitude (-DD.DDDDDD)#14, Park Name#2], functions=[])\n",
            "                                                +- ShuffleQueryStage 1\n",
            "                                                   +- Exchange hashpartitioning(Above Ground (Height in Feet)#9, Primary Fur Color#5, hash_id#800, Location#8, Park ID#3, Specific Location#10, Squirrel ID#4, Area ID#1, Activities#11, Squirrel Latitude (DD.DDDDDD)#13, Color Notes#7, Area Name#0, Highlights in Fur Color#6, Interactions with Humans#12, Squirrel Longitude (-DD.DDDDDD)#14, Park Name#2, 200), ENSURE_REQUIREMENTS, [plan_id=214]\n",
            "                                                      +- *(1) HashAggregate(keys=[Above Ground (Height in Feet)#9, Primary Fur Color#5, hash_id#800, Location#8, Park ID#3, Specific Location#10, Squirrel ID#4, Area ID#1, Activities#11, Squirrel Latitude (DD.DDDDDD)#13, Color Notes#7, Area Name#0, Highlights in Fur Color#6, Interactions with Humans#12, Squirrel Longitude (-DD.DDDDDD)#14, Park Name#2], functions=[])\n",
            "                                                         +- *(1) Project [Area Name#0, Area ID#1, Park Name#2, Park ID#3, Squirrel ID#4, Primary Fur Color#5, Highlights in Fur Color#6, Color Notes#7, Location#8, Above Ground (Height in Feet)#9, Specific Location#10, Activities#11, Interactions with Humans#12, Squirrel Latitude (DD.DDDDDD)#13, Squirrel Longitude (-DD.DDDDDD)#14, pythonUDF0#977 AS hash_id#800]\n",
            "                                                            +- BatchEvalPython [generate_uuid()#799], [pythonUDF0#977]\n",
            "                                                               +- TableCacheQueryStage 0\n",
            "                                                                  +- InMemoryTableScan [Area Name#0, Area ID#1, Park Name#2, Park ID#3, Squirrel ID#4, Primary Fur Color#5, Highlights in Fur Color#6, Color Notes#7, Location#8, Above Ground (Height in Feet)#9, Specific Location#10, Activities#11, Interactions with Humans#12, Squirrel Latitude (DD.DDDDDD)#13, Squirrel Longitude (-DD.DDDDDD)#14]\n",
            "                                                                        +- InMemoryRelation [Area Name#0, Area ID#1, Park Name#2, Park ID#3, Squirrel ID#4, Primary Fur Color#5, Highlights in Fur Color#6, Color Notes#7, Location#8, Above Ground (Height in Feet)#9, Specific Location#10, Activities#11, Interactions with Humans#12, Squirrel Latitude (DD.DDDDDD)#13, Squirrel Longitude (-DD.DDDDDD)#14, hash_id#265], StorageLevel(disk, memory, deserialized, 1 replicas)\n",
            "                                                                              +- AdaptiveSparkPlan isFinalPlan=true\n",
            "                                 +- == Final Plan ==\n",
            "                                    *(2) HashAggregate(keys=[Above Ground (Height in Feet)#9, Primary Fur Color#5, hash_id#265, Location#8, Park ID#3, Specific Location#10, Squirrel ID#4, Area ID#1, Activities#11, Squirrel Latitude (DD.DDDDDD)#13, Color Notes#7, Area Name#0, Highlights in Fur Color#6, Interactions with Humans#12, Squirrel Longitude (-DD.DDDDDD)#14, Park Name#2], functions=[])\n",
            "                                    +- ShuffleQueryStage 0\n",
            "                                       +- Exchange hashpartitioning(Above Ground (Height in Feet)#9, Primary Fur Color#5, hash_id#265, Location#8, Park ID#3, Specific Location#10, Squirrel ID#4, Area ID#1, Activities#11, Squirrel Latitude (DD.DDDDDD)#13, Color Notes#7, Area Name#0, Highlights in Fur Color#6, Interactions with Humans#12, Squirrel Longitude (-DD.DDDDDD)#14, Park Name#2, 200), ENSURE_REQUIREMENTS, [plan_id=91]\n",
            "                                          +- *(1) HashAggregate(keys=[Above Ground (Height in Feet)#9, Primary Fur Color#5, hash_id#265, Location#8, Park ID#3, Specific Location#10, Squirrel ID#4, Area ID#1, Activities#11, Squirrel Latitude (DD.DDDDDD)#13, Color Notes#7, Area Name#0, Highlights in Fur Color#6, Interactions with Humans#12, Squirrel Longitude (-DD.DDDDDD)#14, Park Name#2], functions=[])\n",
            "                                             +- *(1) Project [Area Name#0, Area ID#1, Park Name#2, Park ID#3, Squirrel ID#4, Primary Fur Color#5, Highlights in Fur Color#6, Color Notes#7, Location#8, Above Ground (Height in Feet)#9, Specific Location#10, Activities#11, Interactions with Humans#12, Squirrel Latitude (DD.DDDDDD)#13, Squirrel Longitude (-DD.DDDDDD)#14, pythonUDF0#282 AS hash_id#265]\n",
            "                                                +- BatchEvalPython [generate_uuid()#264], [pythonUDF0#282]\n",
            "                                                   +- FileScan csv [Area Name#0,Area ID#1,Park Name#2,Park ID#3,Squirrel ID#4,Primary Fur Color#5,Highlights in Fur Color#6,Color Notes#7,Location#8,Above Ground (Height in Feet)#9,Specific Location#10,Activities#11,Interactions with Humans#12,Squirrel Latitude (DD.DDDDDD)#13,Squirrel Longitude (-DD.DDDDDD)#14] Batched: false, DataFilters: [], Format: CSV, Location: InMemoryFileIndex(1 paths)[file:/tmp/spark-de3a42f0-5137-4cc5-98c1-0d4cf0279e74/userFiles-03e9295..., PartitionFilters: [], PushedFilters: [], ReadSchema: struct<Area Name:string,Area ID:string,Park Name:string,Park ID:string,Squirrel ID:string,Primary...\n",
            "                                 +- == Initial Plan ==\n",
            "                                    HashAggregate(keys=[Above Ground (Height in Feet)#9, Primary Fur Color#5, hash_id#265, Location#8, Park ID#3, Specific Location#10, Squirrel ID#4, Area ID#1, Activities#11, Squirrel Latitude (DD.DDDDDD)#13, Color Notes#7, Area Name#0, Highlights in Fur Color#6, Interactions with Humans#12, Squirrel Longitude (-DD.DDDDDD)#14, Park Name#2], functions=[])\n",
            "                                    +- Exchange hashpartitioning(Above Ground (Height in Feet)#9, Primary Fur Color#5, hash_id#265, Location#8, Park ID#3, Specific Location#10, Squirrel ID#4, Area ID#1, Activities#11, Squirrel Latitude (DD.DDDDDD)#13, Color Notes#7, Area Name#0, Highlights in Fur Color#6, Interactions with Humans#12, Squirrel Longitude (-DD.DDDDDD)#14, Park Name#2, 200), ENSURE_REQUIREMENTS, [plan_id=55]\n",
            "                                       +- HashAggregate(keys=[Above Ground (Height in Feet)#9, Primary Fur Color#5, hash_id#265, Location#8, Park ID#3, Specific Location#10, Squirrel ID#4, Area ID#1, Activities#11, Squirrel Latitude (DD.DDDDDD)#13, Color Notes#7, Area Name#0, Highlights in Fur Color#6, Interactions with Humans#12, Squirrel Longitude (-DD.DDDDDD)#14, Park Name#2], functions=[])\n",
            "                                          +- Project [Area Name#0, Area ID#1, Park Name#2, Park ID#3, Squirrel ID#4, Primary Fur Color#5, Highlights in Fur Color#6, Color Notes#7, Location#8, Above Ground (Height in Feet)#9, Specific Location#10, Activities#11, Interactions with Humans#12, Squirrel Latitude (DD.DDDDDD)#13, Squirrel Longitude (-DD.DDDDDD)#14, pythonUDF0#282 AS hash_id#265]\n",
            "                                             +- BatchEvalPython [generate_uuid()#264], [pythonUDF0#282]\n",
            "                                                +- FileScan csv [Area Name#0,Area ID#1,Park Name#2,Park ID#3,Squirrel ID#4,Primary Fur Color#5,Highlights in Fur Color#6,Color Notes#7,Location#8,Above Ground (Height in Feet)#9,Specific Location#10,Activities#11,Interactions with Humans#12,Squirrel Latitude (DD.DDDDDD)#13,Squirrel Longitude (-DD.DDDDDD)#14] Batched: false, DataFilters: [], Format: CSV, Location: InMemoryFileIndex(1 paths)[file:/tmp/spark-de3a42f0-5137-4cc5-98c1-0d4cf0279e74/userFiles-03e9295..., PartitionFilters: [], PushedFilters: [], ReadSchema: struct<Area Name:string,Area ID:string,Park Name:string,Park ID:string,Squirrel ID:string,Primary...\n",
            "                                             +- == Initial Plan ==\n",
            "                                                HashAggregate(keys=[Above Ground (Height in Feet)#9, Primary Fur Color#5, hash_id#800, Location#8, Park ID#3, Specific Location#10, Squirrel ID#4, Area ID#1, Activities#11, Squirrel Latitude (DD.DDDDDD)#13, Color Notes#7, Area Name#0, Highlights in Fur Color#6, Interactions with Humans#12, Squirrel Longitude (-DD.DDDDDD)#14, Park Name#2], functions=[])\n",
            "                                                +- Exchange hashpartitioning(Above Ground (Height in Feet)#9, Primary Fur Color#5, hash_id#800, Location#8, Park ID#3, Specific Location#10, Squirrel ID#4, Area ID#1, Activities#11, Squirrel Latitude (DD.DDDDDD)#13, Color Notes#7, Area Name#0, Highlights in Fur Color#6, Interactions with Humans#12, Squirrel Longitude (-DD.DDDDDD)#14, Park Name#2, 200), ENSURE_REQUIREMENTS, [plan_id=150]\n",
            "                                                   +- HashAggregate(keys=[Above Ground (Height in Feet)#9, Primary Fur Color#5, hash_id#800, Location#8, Park ID#3, Specific Location#10, Squirrel ID#4, Area ID#1, Activities#11, Squirrel Latitude (DD.DDDDDD)#13, Color Notes#7, Area Name#0, Highlights in Fur Color#6, Interactions with Humans#12, Squirrel Longitude (-DD.DDDDDD)#14, Park Name#2], functions=[])\n",
            "                                                      +- Project [Area Name#0, Area ID#1, Park Name#2, Park ID#3, Squirrel ID#4, Primary Fur Color#5, Highlights in Fur Color#6, Color Notes#7, Location#8, Above Ground (Height in Feet)#9, Specific Location#10, Activities#11, Interactions with Humans#12, Squirrel Latitude (DD.DDDDDD)#13, Squirrel Longitude (-DD.DDDDDD)#14, pythonUDF0#977 AS hash_id#800]\n",
            "                                                         +- BatchEvalPython [generate_uuid()#799], [pythonUDF0#977]\n",
            "                                                            +- InMemoryTableScan [Area Name#0, Area ID#1, Park Name#2, Park ID#3, Squirrel ID#4, Primary Fur Color#5, Highlights in Fur Color#6, Color Notes#7, Location#8, Above Ground (Height in Feet)#9, Specific Location#10, Activities#11, Interactions with Humans#12, Squirrel Latitude (DD.DDDDDD)#13, Squirrel Longitude (-DD.DDDDDD)#14]\n",
            "                                                                  +- InMemoryRelation [Area Name#0, Area ID#1, Park Name#2, Park ID#3, Squirrel ID#4, Primary Fur Color#5, Highlights in Fur Color#6, Color Notes#7, Location#8, Above Ground (Height in Feet)#9, Specific Location#10, Activities#11, Interactions with Humans#12, Squirrel Latitude (DD.DDDDDD)#13, Squirrel Longitude (-DD.DDDDDD)#14, hash_id#265], StorageLevel(disk, memory, deserialized, 1 replicas)\n",
            "                                                                        +- AdaptiveSparkPlan isFinalPlan=true\n",
            "                           +- == Final Plan ==\n",
            "                              *(2) HashAggregate(keys=[Above Ground (Height in Feet)#9, Primary Fur Color#5, hash_id#265, Location#8, Park ID#3, Specific Location#10, Squirrel ID#4, Area ID#1, Activities#11, Squirrel Latitude (DD.DDDDDD)#13, Color Notes#7, Area Name#0, Highlights in Fur Color#6, Interactions with Humans#12, Squirrel Longitude (-DD.DDDDDD)#14, Park Name#2], functions=[])\n",
            "                              +- ShuffleQueryStage 0\n",
            "                                 +- Exchange hashpartitioning(Above Ground (Height in Feet)#9, Primary Fur Color#5, hash_id#265, Location#8, Park ID#3, Specific Location#10, Squirrel ID#4, Area ID#1, Activities#11, Squirrel Latitude (DD.DDDDDD)#13, Color Notes#7, Area Name#0, Highlights in Fur Color#6, Interactions with Humans#12, Squirrel Longitude (-DD.DDDDDD)#14, Park Name#2, 200), ENSURE_REQUIREMENTS, [plan_id=91]\n",
            "                                    +- *(1) HashAggregate(keys=[Above Ground (Height in Feet)#9, Primary Fur Color#5, hash_id#265, Location#8, Park ID#3, Specific Location#10, Squirrel ID#4, Area ID#1, Activities#11, Squirrel Latitude (DD.DDDDDD)#13, Color Notes#7, Area Name#0, Highlights in Fur Color#6, Interactions with Humans#12, Squirrel Longitude (-DD.DDDDDD)#14, Park Name#2], functions=[])\n",
            "                                       +- *(1) Project [Area Name#0, Area ID#1, Park Name#2, Park ID#3, Squirrel ID#4, Primary Fur Color#5, Highlights in Fur Color#6, Color Notes#7, Location#8, Above Ground (Height in Feet)#9, Specific Location#10, Activities#11, Interactions with Humans#12, Squirrel Latitude (DD.DDDDDD)#13, Squirrel Longitude (-DD.DDDDDD)#14, pythonUDF0#282 AS hash_id#265]\n",
            "                                          +- BatchEvalPython [generate_uuid()#264], [pythonUDF0#282]\n",
            "                                             +- FileScan csv [Area Name#0,Area ID#1,Park Name#2,Park ID#3,Squirrel ID#4,Primary Fur Color#5,Highlights in Fur Color#6,Color Notes#7,Location#8,Above Ground (Height in Feet)#9,Specific Location#10,Activities#11,Interactions with Humans#12,Squirrel Latitude (DD.DDDDDD)#13,Squirrel Longitude (-DD.DDDDDD)#14] Batched: false, DataFilters: [], Format: CSV, Location: InMemoryFileIndex(1 paths)[file:/tmp/spark-de3a42f0-5137-4cc5-98c1-0d4cf0279e74/userFiles-03e9295..., PartitionFilters: [], PushedFilters: [], ReadSchema: struct<Area Name:string,Area ID:string,Park Name:string,Park ID:string,Squirrel ID:string,Primary...\n",
            "                           +- == Initial Plan ==\n",
            "                              HashAggregate(keys=[Above Ground (Height in Feet)#9, Primary Fur Color#5, hash_id#265, Location#8, Park ID#3, Specific Location#10, Squirrel ID#4, Area ID#1, Activities#11, Squirrel Latitude (DD.DDDDDD)#13, Color Notes#7, Area Name#0, Highlights in Fur Color#6, Interactions with Humans#12, Squirrel Longitude (-DD.DDDDDD)#14, Park Name#2], functions=[])\n",
            "                              +- Exchange hashpartitioning(Above Ground (Height in Feet)#9, Primary Fur Color#5, hash_id#265, Location#8, Park ID#3, Specific Location#10, Squirrel ID#4, Area ID#1, Activities#11, Squirrel Latitude (DD.DDDDDD)#13, Color Notes#7, Area Name#0, Highlights in Fur Color#6, Interactions with Humans#12, Squirrel Longitude (-DD.DDDDDD)#14, Park Name#2, 200), ENSURE_REQUIREMENTS, [plan_id=55]\n",
            "                                 +- HashAggregate(keys=[Above Ground (Height in Feet)#9, Primary Fur Color#5, hash_id#265, Location#8, Park ID#3, Specific Location#10, Squirrel ID#4, Area ID#1, Activities#11, Squirrel Latitude (DD.DDDDDD)#13, Color Notes#7, Area Name#0, Highlights in Fur Color#6, Interactions with Humans#12, Squirrel Longitude (-DD.DDDDDD)#14, Park Name#2], functions=[])\n",
            "                                    +- Project [Area Name#0, Area ID#1, Park Name#2, Park ID#3, Squirrel ID#4, Primary Fur Color#5, Highlights in Fur Color#6, Color Notes#7, Location#8, Above Ground (Height in Feet)#9, Specific Location#10, Activities#11, Interactions with Humans#12, Squirrel Latitude (DD.DDDDDD)#13, Squirrel Longitude (-DD.DDDDDD)#14, pythonUDF0#282 AS hash_id#265]\n",
            "                                       +- BatchEvalPython [generate_uuid()#264], [pythonUDF0#282]\n",
            "                                          +- FileScan csv [Area Name#0,Area ID#1,Park Name#2,Park ID#3,Squirrel ID#4,Primary Fur Color#5,Highlights in Fur Color#6,Color Notes#7,Location#8,Above Ground (Height in Feet)#9,Specific Location#10,Activities#11,Interactions with Humans#12,Squirrel Latitude (DD.DDDDDD)#13,Squirrel Longitude (-DD.DDDDDD)#14] Batched: false, DataFilters: [], Format: CSV, Location: InMemoryFileIndex(1 paths)[file:/tmp/spark-de3a42f0-5137-4cc5-98c1-0d4cf0279e74/userFiles-03e9295..., PartitionFilters: [], PushedFilters: [], ReadSchema: struct<Area Name:string,Area ID:string,Park Name:string,Park ID:string,Squirrel ID:string,Primary...\n",
            "      :     +- BroadcastExchange HashedRelationBroadcastMode(List(input[1, string, false]),false), [plan_id=526]\n",
            "      :        +- Filter isnotnull(Park ID#33)\n",
            "      :           +- FileScan csv [Park Name#32,Park ID#33,Date#34] Batched: false, DataFilters: [isnotnull(Park ID#33)], Format: CSV, Location: InMemoryFileIndex(1 paths)[file:/tmp/spark-de3a42f0-5137-4cc5-98c1-0d4cf0279e74/userFiles-03e9295..., PartitionFilters: [], PushedFilters: [IsNotNull(Park ID)], ReadSchema: struct<Park Name:string,Park ID:string,Date:string>\n",
            "      +- BroadcastExchange HashedRelationBroadcastMode(List(input[0, string, false]),false), [plan_id=530]\n",
            "         +- Filter isnotnull(Area ID#62)\n",
            "            +- InMemoryTableScan [Area ID#62, Area Description#64], [isnotnull(Area ID#62)]\n",
            "                  +- InMemoryRelation [Area ID#62, Area Name#63, Area Description#64, City Name#65, City shortname#3024], StorageLevel(memory, 1 replicas)\n",
            "                        +- *(1) Project [Area ID#62, Area Name#63, Area Description#64, City Name#65, NY AS City shortname#3024]\n",
            "                           +- *(1) Scan ExistingRDD[Area ID#62,Area Name#63,Area Description#64,City Name#65]\n",
            "\n",
            "\n",
            "+------------------+--------------------+------+-----------+\n",
            "|  Area Description|           Park Name|  Date|Squirrel ID|\n",
            "+------------------+--------------------+------+-----------+\n",
            "|          Brooklyn|Msgr. McGolrick Park|3/1/20|    D-21-06|\n",
            "|          Brooklyn|       McCarren Park|3/1/20|    D-22-18|\n",
            "| Midtown Manhattan|Tompkins Square Park|3/1/20|    B-11-32|\n",
            "| Midtown Manhattan|Tompkins Square Park|3/1/20|    B-11-07|\n",
            "| Midtown Manhattan|Stuyvesant Square...|3/1/20|    B-09-18|\n",
            "|          Brooklyn|       McCarren Park|3/1/20|    D-22-41|\n",
            "| Midtown Manhattan| Madison Square Park|3/1/20|    B-07-06|\n",
            "|Downtown Manhattan|      City Hall Park|3/1/20|    C-19-01|\n",
            "|  Uptown Manhattan|   St. Nicholas Park|3/1/20|    A-04-15|\n",
            "|  Uptown Manhattan| J. Hood Wright Park|3/1/20|    A-02-16|\n",
            "|  Uptown Manhattan|   St. Nicholas Park|3/1/20|    A-04-03|\n",
            "| Midtown Manhattan|Washington Square...|3/1/20|    B-10-31|\n",
            "|  Uptown Manhattan|Riverside Park (s...|3/1/20|    A-05-03|\n",
            "|Downtown Manhattan|      City Hall Park|3/1/20|    C-19-06|\n",
            "|Downtown Manhattan|  Corlears Hook Park|3/1/20|    C-15-06|\n",
            "| Midtown Manhattan|Tompkins Square Park|3/1/20|    B-11-17|\n",
            "|          Brooklyn|       McCarren Park|3/1/20|    D-22-05|\n",
            "|  Uptown Manhattan|Riverside Park (s...|3/1/20|    A-05-25|\n",
            "| Midtown Manhattan|John V. Lindsay E...|3/1/20|    B-12-05|\n",
            "|  Uptown Manhattan|   St. Nicholas Park|3/1/20|    A-04-04|\n",
            "+------------------+--------------------+------+-----------+\n",
            "only showing top 20 rows\n",
            "\n"
          ]
        }
      ],
      "source": [
        "# Broadcast join\n",
        "# identify the tables candidates for broadcast (smaller one)\n",
        "\n",
        "join_df = (squirrel\n",
        "           .join(park, on=\"Park ID\", how=\"inner\")\n",
        "           .join(area, on=\"Area ID\", how=\"inner\")\n",
        "           .select(area[\"Area Description\"], park[\"Park Name\"], park[\"Date\"], squirrel[\"Squirrel ID\"])\n",
        "           )\n",
        "\n",
        "join_df.explain()\n",
        "join_df.show()"
      ]
    },
    {
      "cell_type": "markdown",
      "source": [
        "# Repartition & Coalesce\n",
        "\n",
        "- coalesce is for reducing partitions without shuffling\n",
        "- repartition is for distributing data evenly across the cluster for better parallelism\n",
        "\n",
        "- if possible choose coalesce over repartition\n",
        "- if needed to increase partitions to increase parallelism, use repartition, however keep the data shuffling operation in mind\n",
        "\n"
      ],
      "metadata": {
        "id": "K5wkJmgQs8UX"
      }
    },
    {
      "cell_type": "code",
      "source": [
        "squirrel_1 = squirrel\n",
        "squirrel_2 = squirrel\n",
        "\n",
        "# Check partitions\n",
        "squirrel_1.rdd.getNumPartitions()\n",
        "\n",
        "# RDD -> partitions among the workers"
      ],
      "metadata": {
        "id": "EitF3d_es8Fo",
        "outputId": "0478dc0e-3d28-4a57-8a46-5cca2ce4cca4",
        "colab": {
          "base_uri": "https://localhost:8080/"
        }
      },
      "execution_count": 15,
      "outputs": [
        {
          "output_type": "execute_result",
          "data": {
            "text/plain": [
              "1"
            ]
          },
          "metadata": {},
          "execution_count": 15
        }
      ]
    },
    {
      "cell_type": "code",
      "source": [
        "# repartition\n",
        "# evenly distribute date across partitions for better parallel processing efficiency\n",
        "# increase AND reduce partitions\n",
        "# do shuffling\n",
        "\n",
        "print(f\"before repartition: {squirrel_1.rdd.getNumPartitions()}\")\n",
        "squirrel_1 = squirrel_1.repartition(4)\n",
        "print(f\"after repartition: {squirrel_1.rdd.getNumPartitions()}\")"
      ],
      "metadata": {
        "id": "wKBD2qXCtzwO",
        "colab": {
          "base_uri": "https://localhost:8080/"
        },
        "outputId": "1245130d-1948-4c60-c218-d6ac1584247e"
      },
      "execution_count": 16,
      "outputs": [
        {
          "output_type": "stream",
          "name": "stdout",
          "text": [
            "before repartition: 1\n",
            "after repartition: 4\n"
          ]
        }
      ]
    },
    {
      "cell_type": "code",
      "source": [
        "# coalesce\n",
        "# reduce partitions without shuffling\n",
        "# minimizes data movement across the cluster\n",
        "\n",
        "# does not allow to increase partitions, only reduce\n",
        "print(f\"before coalesce: {squirrel_2.rdd.getNumPartitions()}\")\n",
        "squirrel_2 = squirrel_2.coalesce(5)\n",
        "print(f\"after coalesce: {squirrel_2.rdd.getNumPartitions()}\")\n"
      ],
      "metadata": {
        "colab": {
          "base_uri": "https://localhost:8080/"
        },
        "id": "72Mk2UJwLEKv",
        "outputId": "bb30b451-fa07-46fc-cade-066b938f623c"
      },
      "execution_count": 17,
      "outputs": [
        {
          "output_type": "stream",
          "name": "stdout",
          "text": [
            "before coalesce: 1\n",
            "after coalesce: 1\n"
          ]
        }
      ]
    },
    {
      "cell_type": "code",
      "source": [
        "print(f\"before coalesce: {squirrel_1.rdd.getNumPartitions()}\")\n",
        "squirrel_1 = squirrel_1.coalesce(2)\n",
        "print(f\"after coalesce: {squirrel_1.rdd.getNumPartitions()}\")"
      ],
      "metadata": {
        "colab": {
          "base_uri": "https://localhost:8080/"
        },
        "id": "6ER9DqONMKE2",
        "outputId": "af05b8c6-aeb6-4775-8cfa-b0b7205703a3"
      },
      "execution_count": 18,
      "outputs": [
        {
          "output_type": "stream",
          "name": "stdout",
          "text": [
            "before coalesce: 4\n",
            "after coalesce: 2\n"
          ]
        }
      ]
    },
    {
      "cell_type": "code",
      "source": [
        "# repartition/coalesce and writing data\n",
        "!rm -rf /content/files/area\n",
        "!mkdir -p /content/files/area\n",
        "\n",
        "# repartition \"area\" dataframe and write as parquet\n",
        "area.repartition(3).write.format(\"parquet\").mode(\"overwrite\").save(\"/content/files/area\")"
      ],
      "metadata": {
        "id": "IR5COTOyPT_t"
      },
      "execution_count": 47,
      "outputs": []
    },
    {
      "cell_type": "code",
      "source": [
        "# check files and their content\n",
        "\n",
        "files = [\"part-00000-845fcdfb-a789-4c07-a848-32bd331568bf-c000.snappy.parquet\",\n",
        "         \"part-00001-845fcdfb-a789-4c07-a848-32bd331568bf-c000.snappy.parquet\",\n",
        "         \"part-00002-845fcdfb-a789-4c07-a848-32bd331568bf-c000.snappy.parquet\"\n",
        "        ]\n",
        "folder = \"/content/files/area/\"\n",
        "\n",
        "for f in files:\n",
        "  df = spark.read.parquet(f\"{folder}{f}\")\n",
        "  print(f\"{f} - {df.count()} rows\")"
      ],
      "metadata": {
        "colab": {
          "base_uri": "https://localhost:8080/",
          "height": 350
        },
        "id": "bl3NMEx6PhYV",
        "outputId": "8332e7f7-077f-4331-debb-790114c6b53d"
      },
      "execution_count": 30,
      "outputs": [
        {
          "output_type": "error",
          "ename": "AnalysisException",
          "evalue": "[PATH_NOT_FOUND] Path does not exist: file:/content/files/area/part-00000-845fcdfb-a789-4c07-a848-32bd331568bf-c000.snappy.parquet.",
          "traceback": [
            "\u001b[0;31m---------------------------------------------------------------------------\u001b[0m",
            "\u001b[0;31mAnalysisException\u001b[0m                         Traceback (most recent call last)",
            "\u001b[0;32m<ipython-input-30-ab114824e040>\u001b[0m in \u001b[0;36m<cell line: 9>\u001b[0;34m()\u001b[0m\n\u001b[1;32m      8\u001b[0m \u001b[0;34m\u001b[0m\u001b[0m\n\u001b[1;32m      9\u001b[0m \u001b[0;32mfor\u001b[0m \u001b[0mf\u001b[0m \u001b[0;32min\u001b[0m \u001b[0mfiles\u001b[0m\u001b[0;34m:\u001b[0m\u001b[0;34m\u001b[0m\u001b[0;34m\u001b[0m\u001b[0m\n\u001b[0;32m---> 10\u001b[0;31m   \u001b[0mdf\u001b[0m \u001b[0;34m=\u001b[0m \u001b[0mspark\u001b[0m\u001b[0;34m.\u001b[0m\u001b[0mread\u001b[0m\u001b[0;34m.\u001b[0m\u001b[0mparquet\u001b[0m\u001b[0;34m(\u001b[0m\u001b[0;34mf\"{folder}{f}\"\u001b[0m\u001b[0;34m)\u001b[0m\u001b[0;34m\u001b[0m\u001b[0;34m\u001b[0m\u001b[0m\n\u001b[0m\u001b[1;32m     11\u001b[0m   \u001b[0mprint\u001b[0m\u001b[0;34m(\u001b[0m\u001b[0;34mf\"{f} - {df.count()} rows\"\u001b[0m\u001b[0;34m)\u001b[0m\u001b[0;34m\u001b[0m\u001b[0;34m\u001b[0m\u001b[0m\n",
            "\u001b[0;32m/usr/local/lib/python3.10/dist-packages/pyspark/sql/readwriter.py\u001b[0m in \u001b[0;36mparquet\u001b[0;34m(self, *paths, **options)\u001b[0m\n\u001b[1;32m    542\u001b[0m         )\n\u001b[1;32m    543\u001b[0m \u001b[0;34m\u001b[0m\u001b[0m\n\u001b[0;32m--> 544\u001b[0;31m         \u001b[0;32mreturn\u001b[0m \u001b[0mself\u001b[0m\u001b[0;34m.\u001b[0m\u001b[0m_df\u001b[0m\u001b[0;34m(\u001b[0m\u001b[0mself\u001b[0m\u001b[0;34m.\u001b[0m\u001b[0m_jreader\u001b[0m\u001b[0;34m.\u001b[0m\u001b[0mparquet\u001b[0m\u001b[0;34m(\u001b[0m\u001b[0m_to_seq\u001b[0m\u001b[0;34m(\u001b[0m\u001b[0mself\u001b[0m\u001b[0;34m.\u001b[0m\u001b[0m_spark\u001b[0m\u001b[0;34m.\u001b[0m\u001b[0m_sc\u001b[0m\u001b[0;34m,\u001b[0m \u001b[0mpaths\u001b[0m\u001b[0;34m)\u001b[0m\u001b[0;34m)\u001b[0m\u001b[0;34m)\u001b[0m\u001b[0;34m\u001b[0m\u001b[0;34m\u001b[0m\u001b[0m\n\u001b[0m\u001b[1;32m    545\u001b[0m \u001b[0;34m\u001b[0m\u001b[0m\n\u001b[1;32m    546\u001b[0m     def text(\n",
            "\u001b[0;32m/usr/local/lib/python3.10/dist-packages/py4j/java_gateway.py\u001b[0m in \u001b[0;36m__call__\u001b[0;34m(self, *args)\u001b[0m\n\u001b[1;32m   1320\u001b[0m \u001b[0;34m\u001b[0m\u001b[0m\n\u001b[1;32m   1321\u001b[0m         \u001b[0manswer\u001b[0m \u001b[0;34m=\u001b[0m \u001b[0mself\u001b[0m\u001b[0;34m.\u001b[0m\u001b[0mgateway_client\u001b[0m\u001b[0;34m.\u001b[0m\u001b[0msend_command\u001b[0m\u001b[0;34m(\u001b[0m\u001b[0mcommand\u001b[0m\u001b[0;34m)\u001b[0m\u001b[0;34m\u001b[0m\u001b[0;34m\u001b[0m\u001b[0m\n\u001b[0;32m-> 1322\u001b[0;31m         return_value = get_return_value(\n\u001b[0m\u001b[1;32m   1323\u001b[0m             answer, self.gateway_client, self.target_id, self.name)\n\u001b[1;32m   1324\u001b[0m \u001b[0;34m\u001b[0m\u001b[0m\n",
            "\u001b[0;32m/usr/local/lib/python3.10/dist-packages/pyspark/errors/exceptions/captured.py\u001b[0m in \u001b[0;36mdeco\u001b[0;34m(*a, **kw)\u001b[0m\n\u001b[1;32m    183\u001b[0m                 \u001b[0;31m# Hide where the exception came from that shows a non-Pythonic\u001b[0m\u001b[0;34m\u001b[0m\u001b[0;34m\u001b[0m\u001b[0m\n\u001b[1;32m    184\u001b[0m                 \u001b[0;31m# JVM exception message.\u001b[0m\u001b[0;34m\u001b[0m\u001b[0;34m\u001b[0m\u001b[0m\n\u001b[0;32m--> 185\u001b[0;31m                 \u001b[0;32mraise\u001b[0m \u001b[0mconverted\u001b[0m \u001b[0;32mfrom\u001b[0m \u001b[0;32mNone\u001b[0m\u001b[0;34m\u001b[0m\u001b[0;34m\u001b[0m\u001b[0m\n\u001b[0m\u001b[1;32m    186\u001b[0m             \u001b[0;32melse\u001b[0m\u001b[0;34m:\u001b[0m\u001b[0;34m\u001b[0m\u001b[0;34m\u001b[0m\u001b[0m\n\u001b[1;32m    187\u001b[0m                 \u001b[0;32mraise\u001b[0m\u001b[0;34m\u001b[0m\u001b[0;34m\u001b[0m\u001b[0m\n",
            "\u001b[0;31mAnalysisException\u001b[0m: [PATH_NOT_FOUND] Path does not exist: file:/content/files/area/part-00000-845fcdfb-a789-4c07-a848-32bd331568bf-c000.snappy.parquet."
          ]
        }
      ]
    },
    {
      "cell_type": "code",
      "source": [
        "# Check file sizes\n",
        "!ls -lah /content/files/area"
      ],
      "metadata": {
        "colab": {
          "base_uri": "https://localhost:8080/"
        },
        "id": "n5H-rpwqQS_M",
        "outputId": "0c42b0bb-da36-4512-da4f-98b74efc71a3"
      },
      "execution_count": 23,
      "outputs": [
        {
          "output_type": "stream",
          "name": "stdout",
          "text": [
            "total 36K\n",
            "drwxr-xr-x 2 root root 4.0K Nov 16 15:32 .\n",
            "drwxr-xr-x 3 root root 4.0K Nov 16 15:32 ..\n",
            "-rw-r--r-- 1 root root 1.7K Nov 16 15:32 part-00000-845fcdfb-a789-4c07-a848-32bd331568bf-c000.snappy.parquet\n",
            "-rw-r--r-- 1 root root   24 Nov 16 15:32 .part-00000-845fcdfb-a789-4c07-a848-32bd331568bf-c000.snappy.parquet.crc\n",
            "-rw-r--r-- 1 root root 1.7K Nov 16 15:32 part-00001-845fcdfb-a789-4c07-a848-32bd331568bf-c000.snappy.parquet\n",
            "-rw-r--r-- 1 root root   24 Nov 16 15:32 .part-00001-845fcdfb-a789-4c07-a848-32bd331568bf-c000.snappy.parquet.crc\n",
            "-rw-r--r-- 1 root root 1.7K Nov 16 15:32 part-00002-845fcdfb-a789-4c07-a848-32bd331568bf-c000.snappy.parquet\n",
            "-rw-r--r-- 1 root root   24 Nov 16 15:32 .part-00002-845fcdfb-a789-4c07-a848-32bd331568bf-c000.snappy.parquet.crc\n",
            "-rw-r--r-- 1 root root    0 Nov 16 15:32 _SUCCESS\n",
            "-rw-r--r-- 1 root root    8 Nov 16 15:32 ._SUCCESS.crc\n"
          ]
        }
      ]
    },
    {
      "cell_type": "markdown",
      "source": [
        "# Question"
      ],
      "metadata": {
        "id": "aVyWuRHiR--p"
      }
    },
    {
      "cell_type": "code",
      "source": [
        "# Q1\n",
        "# read data from /content/files/area (3 parquet files)\n",
        "# write again the data into the same folder making sure the output will be only one file\n",
        "\n",
        "df = spark.read.format(\"parquet\").load(\"/content/files/area\")\n",
        "#df.rdd.getNumPartitions()\n",
        "#Another Way\n",
        "#df2 = spark.read.format(\"parquet\").load(\"/content/files/area\").coalesce(1)\n",
        "#df2.rdd.getNumPartitions()\n",
        "\n",
        "df.repartition(1).write.format(\"parquet\").mode(\"overwrite\").save(\"/content/files/area\")\n",
        "\n"
      ],
      "metadata": {
        "id": "hLjzGtv-Rou1"
      },
      "execution_count": 48,
      "outputs": []
    }
  ],
  "metadata": {
    "colab": {
      "provenance": [],
      "include_colab_link": true
    },
    "kernelspec": {
      "display_name": "Python 3",
      "name": "python3"
    },
    "language_info": {
      "name": "python"
    }
  },
  "nbformat": 4,
  "nbformat_minor": 0
}