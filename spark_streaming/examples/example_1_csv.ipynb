{
  "cells": [
    {
      "cell_type": "markdown",
      "metadata": {
        "id": "view-in-github",
        "colab_type": "text"
      },
      "source": [
        "<a href=\"https://colab.research.google.com/github/mdias23i/DE-DataProcessing/blob/main/spark_streaming/examples/example_1_csv.ipynb\" target=\"_parent\"><img src=\"https://colab.research.google.com/assets/colab-badge.svg\" alt=\"Open In Colab\"/></a>"
      ]
    },
    {
      "cell_type": "markdown",
      "metadata": {
        "id": "4_GBE9UsyxwK"
      },
      "source": []
    },
    {
      "cell_type": "markdown",
      "metadata": {
        "id": "QBUTFW0NTs-T"
      },
      "source": [
        "# Usecase 1\n",
        "- Defining a sample dataset\n",
        "- Splitting dataset in many CSVs and uploading them in the input folder in async mode\n",
        "- Use Spark streaming to read from input folder\n",
        "- Checking results from query in memory"
      ]
    },
    {
      "cell_type": "markdown",
      "metadata": {
        "id": "d9LeYFsPTjAb"
      },
      "source": [
        "# Setting up PySpark"
      ]
    },
    {
      "cell_type": "code",
      "execution_count": 2,
      "metadata": {
        "colab": {
          "base_uri": "https://localhost:8080/"
        },
        "id": "uYXeODL0T1fO",
        "outputId": "af54a2bb-1f8f-48ca-a7e6-b933dda06453"
      },
      "outputs": [
        {
          "output_type": "stream",
          "name": "stdout",
          "text": [
            "Requirement already satisfied: pyspark in /usr/local/lib/python3.10/dist-packages (3.5.3)\n",
            "Requirement already satisfied: py4j==0.10.9.7 in /usr/local/lib/python3.10/dist-packages (from pyspark) (0.10.9.7)\n"
          ]
        }
      ],
      "source": [
        "%pip install pyspark"
      ]
    },
    {
      "cell_type": "code",
      "execution_count": 4,
      "metadata": {
        "id": "637HFw00T3LP"
      },
      "outputs": [],
      "source": [
        "from pyspark.sql import SparkSession\n",
        "\n",
        "#SparkSession.stop(spark)\n",
        "spark = SparkSession.builder.master('local').appName('Test streaming').getOrCreate()\n",
        "sc = spark.sparkContext"
      ]
    },
    {
      "cell_type": "markdown",
      "metadata": {
        "id": "x-faGlZP36_A"
      },
      "source": [
        "# Reading sample dataset"
      ]
    },
    {
      "cell_type": "code",
      "execution_count": 6,
      "metadata": {
        "colab": {
          "base_uri": "https://localhost:8080/"
        },
        "id": "11XHuPFBgh9x",
        "outputId": "2f38036a-581f-4cd1-ef8d-023dca01f438"
      },
      "outputs": [
        {
          "output_type": "stream",
          "name": "stdout",
          "text": [
            "+---------------+-------+-------------------+-------+-----------+-----------------+-----------------------+-----------+------------+-----------------------------+-----------------+--------------------+------------------------+-----------------------------+-------------------------------+--------------------+\n",
            "|      Area Name|Area ID|          Park Name|Park ID|Squirrel ID|Primary Fur Color|Highlights in Fur Color|Color Notes|    Location|Above Ground (Height in Feet)|Specific Location|          Activities|Interactions with Humans|Squirrel Latitude (DD.DDDDDD)|Squirrel Longitude (-DD.DDDDDD)|                hash|\n",
            "+---------------+-------+-------------------+-------+-----------+-----------------+-----------------------+-----------+------------+-----------------------------+-----------------+--------------------+------------------------+-----------------------------+-------------------------------+--------------------+\n",
            "|UPPER MANHATTAN|      A|    Fort Tryon Park|     01|    A-01-02|             Gray|                  White|       NULL|Ground Plane|                         NULL|             NULL|            Foraging|             Indifferent|                 Looks skinny|                      40.859436|18302553-9e18-489...|\n",
            "|UPPER MANHATTAN|      A|    Fort Tryon Park|     01|    A-01-03|             Gray|                  White|       NULL|Ground Plane|                         NULL|             NULL|Eating, Digging s...|             Indifferent|                         NULL|                      40.859416|a8374497-2452-47b...|\n",
            "|UPPER MANHATTAN|      A|    Fort Tryon Park|     01|    A-01-04|             Gray|                  White|       NULL|Ground Plane|                         NULL|             NULL|             Running|             Indifferent|                         NULL|                      40.859418|f29ed1ff-0908-455...|\n",
            "|UPPER MANHATTAN|      A|    Fort Tryon Park|     01|    A-01-05|             Gray|               Cinnamon|       NULL|Ground Plane|                         NULL|             NULL|     Running, Eating|             Indifferent|                She left food|                      40.859493|834073ba-27e8-403...|\n",
            "|UPPER MANHATTAN|      A|    Fort Tryon Park|     01|    A-01-06|             Gray|               Cinnamon|       NULL|Ground Plane|                         NULL|             NULL|            Climbing|             Indifferent|                         NULL|                      40.860825|cc39b132-1014-4a3...|\n",
            "|UPPER MANHATTAN|      A|    Fort Tryon Park|     01|    A-01-07|             Gray|                  White|       NULL|Ground Plane|                         NULL|             NULL|            Foraging|             Indifferent|                         NULL|                      40.860225|6f7d895c-a193-468...|\n",
            "|UPPER MANHATTAN|      A|    Fort Tryon Park|     01|    A-01-08|            Black|                   Gray|       NULL|Above Ground|                           10|             NULL|            Climbing|               Runs From|                         NULL|                      40.859965|0b97dffd-b0a1-442...|\n",
            "|UPPER MANHATTAN|      A|    Fort Tryon Park|     01|    A-01-09|             Gray|                  White|       NULL|Ground Plane|                         NULL|             NULL|            Foraging|             Indifferent|                         NULL|                      40.859892|b55f07be-8136-4de...|\n",
            "|UPPER MANHATTAN|      A|    Fort Tryon Park|     01|    A-01-10|             Gray|                  White|       NULL|Ground Plane|                         NULL|             NULL|     Eating, Digging|             Indifferent|                         NULL|                      40.859636|8962a698-5ea4-420...|\n",
            "|UPPER MANHATTAN|      A|    Fort Tryon Park|     01|    A-01-11|             Gray|                  Black|       NULL|Ground Plane|                         NULL|             NULL|     Eating, Digging|             Indifferent|         was intimidated b...|                      40.859576|ea773ec7-29b5-464...|\n",
            "|UPPER MANHATTAN|      A|    Fort Tryon Park|     01|    A-01-12|             Gray|                  White|       NULL|Ground Plane|                         NULL|             NULL|             Running|               Runs From|                         NULL|                      40.859989|d38b13b9-9066-49c...|\n",
            "|UPPER MANHATTAN|      A|J. Hood Wright Park|     02|    A-02-01|             Gray|                   Gray|       NULL|Ground Plane|                         NULL|             NULL|             Running|             Indifferent|                         NULL|                      40.845749|f7b5b355-994b-48d...|\n",
            "|UPPER MANHATTAN|      A|J. Hood Wright Park|     02|    A-02-02|             Gray|               Cinnamon|       NULL|Above Ground|                            2|             NULL|            Foraging|             Indifferent|                         NULL|                      40.845875|40da8652-6dd7-49c...|\n",
            "|UPPER MANHATTAN|      A|J. Hood Wright Park|     02|    A-02-03|             Gray|               Cinnamon|       NULL|Ground Plane|                         NULL|             NULL|            Foraging|                    NULL|                         NULL|                      40.845875|072abac9-3244-486...|\n",
            "|UPPER MANHATTAN|      A|J. Hood Wright Park|     02|    A-02-04|             Gray|               Cinnamon|       NULL|Ground Plane|                         NULL|             NULL|             Running|             Indifferent|                         NULL|                      40.846088|03cc9d11-ded0-4d8...|\n",
            "|UPPER MANHATTAN|      A|J. Hood Wright Park|     02|    A-02-05|             Gray|               Cinnamon|       NULL|Ground Plane|                         NULL|             NULL|             Running|               Runs From|                         NULL|                      40.846088|db9d8418-8bb4-4dc...|\n",
            "|UPPER MANHATTAN|      A|J. Hood Wright Park|     02|    A-02-06|             Gray|               Cinnamon|       NULL|Ground Plane|                         NULL|             NULL|            Foraging|             Indifferent|                         NULL|                      40.846088|8391f4ce-e5f3-4cc...|\n",
            "|UPPER MANHATTAN|      A|J. Hood Wright Park|     02|    A-02-07|             Gray|                   Gray|       NULL|Ground Plane|                         NULL|             NULL|                NULL|               Runs From|                         NULL|                      40.846222|d7ccca34-0052-4d2...|\n",
            "|UPPER MANHATTAN|      A|J. Hood Wright Park|     02|    A-02-08|             Gray|               Cinnamon|       NULL|Ground Plane|                         NULL|             NULL|Foraging, Nesting...|             Indifferent|                         NULL|                      40.846222|1ce44b13-64fe-47d...|\n",
            "|UPPER MANHATTAN|      A|J. Hood Wright Park|     02|    A-02-09|             Gray|               Cinnamon|       NULL|Ground Plane|                         NULL|             NULL|             Chasing|             Indifferent|                         NULL|                      40.846197|65642377-fb52-4d1...|\n",
            "+---------------+-------+-------------------+-------+-----------+-----------------+-----------------------+-----------+------------+-----------------------------+-----------------+--------------------+------------------------+-----------------------------+-------------------------------+--------------------+\n",
            "only showing top 20 rows\n",
            "\n"
          ]
        }
      ],
      "source": [
        "from pyspark import SparkFiles\n",
        "from pyspark.sql.types import *\n",
        "import uuid\n",
        "from pyspark.sql.functions import udf\n",
        "from pyspark.sql import DataFrame\n",
        "\n",
        "def get_data(url: str, filename: str, schema) -> DataFrame:\n",
        "  # read using SparkFiles\n",
        "  spark.sparkContext.addFile(url)\n",
        "  data = sc.textFile(SparkFiles.get(filename))\n",
        "\n",
        "  # removing header\n",
        "  header = data.first()\n",
        "  data = data.filter(lambda line: line != header)\n",
        "\n",
        "  df = spark.read.csv(data, header=True, schema=schema)\n",
        "  return df\n",
        "\n",
        "@udf\n",
        "def generate_uuid():\n",
        "  return str(uuid.uuid4())\n",
        "\n",
        "schema = StructType([\n",
        "StructField('Area Name',StringType(),True),\n",
        "StructField('Area ID',StringType(),True),\n",
        "StructField('Park Name',StringType(),True),\n",
        "StructField('Park ID', StringType(), True),\n",
        "StructField('Squirrel ID', StringType(), True),\n",
        "StructField('Primary Fur Color', StringType(), True),\n",
        "StructField('Highlights in Fur Color', StringType(), True),\n",
        "StructField('Color Notes', StringType(), True),\n",
        "StructField('Location', StringType(), True),\n",
        "StructField('Above Ground (Height in Feet)', StringType(), True),\n",
        "StructField('Specific Location', StringType(), True),\n",
        "StructField('Activities', StringType(), True),\n",
        "StructField('Interactions with Humans', StringType(), True),\n",
        "StructField('Squirrel Latitude (DD.DDDDDD)', StringType(), True),\n",
        "StructField('Squirrel Longitude (-DD.DDDDDD)', StringType(), True),\n",
        "StructField('hash', StringType(), True)\n",
        "])\n",
        "\n",
        "df = get_data(url = \"https://raw.githubusercontent.com/lucprosa/dataeng-basic-course/main/data/squirrel-data/squirrel-data.csv\", filename = \"squirrel-data.csv\", schema = schema)\n",
        "df = df.withColumn(\"hash\", generate_uuid())\n",
        "\n",
        "df = df.cache()\n",
        "df.count()\n",
        "\n",
        "df.show()"
      ]
    },
    {
      "cell_type": "markdown",
      "source": [
        "# Removing folders"
      ],
      "metadata": {
        "id": "pEfPI_lUpRzv"
      }
    },
    {
      "cell_type": "code",
      "source": [
        "!rm -rf /content/input/\n",
        "!rm -rf /content/output/\n",
        "!rm -rf /content/checkpoint/"
      ],
      "metadata": {
        "id": "IoZvB2a5C2px"
      },
      "execution_count": 7,
      "outputs": []
    },
    {
      "cell_type": "markdown",
      "metadata": {
        "id": "5WUcNclY4CSO"
      },
      "source": [
        "# Splitting dataset in many CSVs and uploading them in async mode\n",
        "\n",
        "- split csv files in many small files\n",
        "- sleep some seconds between each process\n",
        "- write small file into input folder"
      ]
    },
    {
      "cell_type": "code",
      "execution_count": 8,
      "metadata": {
        "id": "ZBitKAbAhr6k"
      },
      "outputs": [],
      "source": [
        "from pyspark.sql import DataFrame\n",
        "import time\n",
        "import asyncio\n",
        "\n",
        "# Function to split csv into many files (assync)\n",
        "async def splitDf(df: DataFrame, weight: float, files: int):\n",
        "  weights = [weight for i in range(files)]\n",
        "  dfs = df.randomSplit(weights)\n",
        "  return dfs\n",
        "\n",
        "# Function to write data as csv (assync)\n",
        "async def writeFile(dfs: list[DataFrame], path: str, seconds_per_file: int):\n",
        "  for i in range(len(dfs)):\n",
        "    df = dfs[i]\n",
        "    #print(f\"Writing file {path}file_{i}.csv with {df.count()} lines\")\n",
        "    df.write.mode(\"append\").format(\"csv\").save(path)\n",
        "    await asyncio.sleep(seconds_per_file)\n",
        "\n",
        "async def main(df):\n",
        "  files = 20\n",
        "  seconds_per_file = 10\n",
        "  dfs = await splitDf(df, 1.0, files)\n",
        "  asyncio.create_task(writeFile(dfs, \"/content/input/\", seconds_per_file))\n"
      ]
    },
    {
      "cell_type": "markdown",
      "source": [
        "# Start producer\n",
        "\n"
      ],
      "metadata": {
        "id": "i6O7T7-Kd6v4"
      }
    },
    {
      "cell_type": "code",
      "source": [
        "await main(df)"
      ],
      "metadata": {
        "id": "V3aWcu0eCWio"
      },
      "execution_count": 9,
      "outputs": []
    },
    {
      "cell_type": "markdown",
      "metadata": {
        "id": "WJr9P--oUl9N"
      },
      "source": [
        "# Defining streaming functions\n",
        "\n",
        "- streaming_1\n",
        "  - read streaming data from csv\n",
        "  - write streaming data using MEMORY\n",
        "  - query \"my_query\" to check results\n",
        "\n",
        "- streaming_2\n",
        "  - read streaming data from csv\n",
        "  - write streaming data as PARQUET\n",
        "      - define checkpoint\n",
        "      - trigger time of 5 seconds\n",
        "      - mode append\n"
      ]
    },
    {
      "cell_type": "code",
      "execution_count": 10,
      "metadata": {
        "id": "aQuwtLOWUqGa"
      },
      "outputs": [],
      "source": [
        "from pyspark.sql.streaming import StreamingQuery\n",
        "\n",
        "def streaming_1(queryName: str) -> StreamingQuery:\n",
        "\n",
        "  # Start read of file stream (csv) from input folder\n",
        "  stream1 = spark.readStream.format('csv').schema(schema).option('header', False).load('/content/input/')\n",
        "\n",
        "  # Check if dataframe is streaming\n",
        "  print(stream1.isStreaming)\n",
        "\n",
        "  # Start write as streaming into memory\n",
        "  query = (stream1.writeStream\n",
        "  .format('memory')\n",
        "  .queryName(queryName)\n",
        "  .trigger(processingTime='5 seconds')\n",
        "  .outputMode('append')\n",
        "  .start()\n",
        "  )\n",
        "  return query\n",
        "\n",
        "def streaming_2() -> StreamingQuery:\n",
        "\n",
        "  # Start read of file stream (csv) from input folder\n",
        "  stream1 = spark.readStream.format('csv').schema(schema).option('header', False).load('/content/input/')\n",
        "\n",
        "  # Check if dataframe is streaming\n",
        "  print(stream1.isStreaming)\n",
        "\n",
        "  # Start write as streaming into memory\n",
        "  query = (stream1.writeStream\n",
        "  .format('parquet')\n",
        "  .option('path', '/content/output')\n",
        "  .option('checkpointLocation', '/content/checkpoint')\n",
        "  .trigger(processingTime='5 seconds')\n",
        "  .outputMode('append')\n",
        "  .start()\n",
        "  )\n",
        "  return query"
      ]
    },
    {
      "cell_type": "markdown",
      "source": [
        "# Start streaming_1 (memory)"
      ],
      "metadata": {
        "id": "g60VSmY6qwMk"
      }
    },
    {
      "cell_type": "code",
      "source": [
        "query = streaming_1(\"qry1\")"
      ],
      "metadata": {
        "colab": {
          "base_uri": "https://localhost:8080/"
        },
        "id": "HMb6n4T7nsM9",
        "outputId": "bedbac0a-41b9-466e-ba39-a30b1f20293a"
      },
      "execution_count": 11,
      "outputs": [
        {
          "output_type": "stream",
          "name": "stdout",
          "text": [
            "True\n"
          ]
        }
      ]
    },
    {
      "cell_type": "code",
      "source": [
        "# querying data in memory\n",
        "spark.sql(\"select count(1) from qry1\").show()"
      ],
      "metadata": {
        "colab": {
          "base_uri": "https://localhost:8080/"
        },
        "id": "s2N4nVBcrfY2",
        "outputId": "2736a9bc-6fd2-4371-a4f4-4e0b3b6b745b"
      },
      "execution_count": 15,
      "outputs": [
        {
          "output_type": "stream",
          "name": "stdout",
          "text": [
            "+--------+\n",
            "|count(1)|\n",
            "+--------+\n",
            "|     432|\n",
            "+--------+\n",
            "\n"
          ]
        }
      ]
    },
    {
      "cell_type": "code",
      "source": [
        "# checking results\n",
        "df.count() == spark.sql(\"select * from qry1\").count()"
      ],
      "metadata": {
        "colab": {
          "base_uri": "https://localhost:8080/"
        },
        "id": "rqZz5lwCtkaq",
        "outputId": "90b98ee8-6a07-40fa-de7e-84dc821615c7"
      },
      "execution_count": 16,
      "outputs": [
        {
          "output_type": "execute_result",
          "data": {
            "text/plain": [
              "True"
            ]
          },
          "metadata": {},
          "execution_count": 16
        }
      ]
    },
    {
      "cell_type": "markdown",
      "metadata": {
        "id": "hYHLg6DX6EMB"
      },
      "source": [
        "# Stop writeStreaming"
      ]
    },
    {
      "cell_type": "code",
      "execution_count": 17,
      "metadata": {
        "id": "lxEOqAOOVdFS"
      },
      "outputs": [],
      "source": [
        "query.stop()"
      ]
    },
    {
      "cell_type": "markdown",
      "source": [
        "# Start streaming_2 (parquet)\n",
        "\n"
      ],
      "metadata": {
        "id": "DbUVx-WCec2f"
      }
    },
    {
      "cell_type": "code",
      "source": [
        "query = streaming_2()"
      ],
      "metadata": {
        "colab": {
          "base_uri": "https://localhost:8080/"
        },
        "id": "EEpMmQXiDwsT",
        "outputId": "8029a204-fa2a-43a1-dfe8-614396534a4e"
      },
      "execution_count": 18,
      "outputs": [
        {
          "output_type": "stream",
          "name": "stdout",
          "text": [
            "True\n"
          ]
        }
      ]
    },
    {
      "cell_type": "code",
      "source": [
        "query.stop()"
      ],
      "metadata": {
        "id": "UcHJgMTnz16A"
      },
      "execution_count": 19,
      "outputs": []
    },
    {
      "cell_type": "markdown",
      "source": [
        "# Checking output"
      ],
      "metadata": {
        "id": "qmWM54kkek9m"
      }
    },
    {
      "cell_type": "code",
      "source": [
        "df.count()"
      ],
      "metadata": {
        "colab": {
          "base_uri": "https://localhost:8080/"
        },
        "id": "8rTQZ0t8kRCV",
        "outputId": "9515b42d-4ec0-40af-9f18-351e4f6137b3"
      },
      "execution_count": 20,
      "outputs": [
        {
          "output_type": "execute_result",
          "data": {
            "text/plain": [
              "432"
            ]
          },
          "metadata": {},
          "execution_count": 20
        }
      ]
    },
    {
      "cell_type": "code",
      "source": [
        "input = spark.read.format(\"csv\").load(\"/content/input/*\")\n",
        "output = spark.read.format(\"parquet\").schema(schema).load(\"/content/output/*\")\n",
        "\n",
        "print(f\"input - {input.count()}\")\n",
        "print(f\"output - {output.count()}\")\n"
      ],
      "metadata": {
        "colab": {
          "base_uri": "https://localhost:8080/"
        },
        "id": "x5kdA8TuDb3D",
        "outputId": "d3c5fc41-1b5e-4104-e374-7a43c101d7fc"
      },
      "execution_count": 21,
      "outputs": [
        {
          "output_type": "stream",
          "name": "stdout",
          "text": [
            "input - 432\n",
            "output - 432\n"
          ]
        }
      ]
    },
    {
      "cell_type": "code",
      "source": [
        "query.stop()"
      ],
      "metadata": {
        "id": "6HGbc8NBlQSz",
        "outputId": "bd2249d3-2c0c-4e95-f233-a9e82ded372b",
        "colab": {
          "base_uri": "https://localhost:8080/"
        }
      },
      "execution_count": 22,
      "outputs": [
        {
          "output_type": "execute_result",
          "data": {
            "text/plain": [
              "{'message': 'Stopped', 'isDataAvailable': False, 'isTriggerActive': False}"
            ]
          },
          "metadata": {},
          "execution_count": 22
        }
      ]
    },
    {
      "cell_type": "code",
      "source": [
        "# Counting csv files in INPUT folder\n",
        "!ls -l /content/input | grep .csv | wc -l"
      ],
      "metadata": {
        "colab": {
          "base_uri": "https://localhost:8080/"
        },
        "id": "_ibDWoh2JLa8",
        "outputId": "45572c73-ce43-40e7-edc2-43fc35d876b6"
      },
      "execution_count": 23,
      "outputs": [
        {
          "output_type": "stream",
          "name": "stdout",
          "text": [
            "20\n"
          ]
        }
      ]
    },
    {
      "cell_type": "code",
      "source": [
        "# Counting csv files in OUTPUT folder\n",
        "!ls -l /content/output | grep .parquet | wc -l"
      ],
      "metadata": {
        "colab": {
          "base_uri": "https://localhost:8080/"
        },
        "id": "iA87VK23dtmw",
        "outputId": "37384ca6-5b05-4a99-d9cc-4673edd8fa3f"
      },
      "execution_count": 24,
      "outputs": [
        {
          "output_type": "stream",
          "name": "stdout",
          "text": [
            "1\n"
          ]
        }
      ]
    },
    {
      "cell_type": "code",
      "source": [
        "# check streaming query attributes\n",
        "query.lastProgress\n",
        "query.lastProgress['numInputRows']\n",
        "query.recentProgress\n",
        "query.id\n",
        "query.name\n",
        "query.status"
      ],
      "metadata": {
        "colab": {
          "base_uri": "https://localhost:8080/"
        },
        "id": "fDnG7xawH-QE",
        "outputId": "3a355697-5161-45a6-860b-bc8e0dff0e8c"
      },
      "execution_count": 25,
      "outputs": [
        {
          "output_type": "execute_result",
          "data": {
            "text/plain": [
              "{'message': 'Stopped', 'isDataAvailable': False, 'isTriggerActive': False}"
            ]
          },
          "metadata": {},
          "execution_count": 25
        }
      ]
    },
    {
      "cell_type": "code",
      "source": [
        "# checking input schema\n",
        "input.printSchema()"
      ],
      "metadata": {
        "colab": {
          "base_uri": "https://localhost:8080/"
        },
        "id": "Ufgg5TuakJV2",
        "outputId": "61a8f418-6b31-4bde-b687-a6283b6d8f95"
      },
      "execution_count": 26,
      "outputs": [
        {
          "output_type": "stream",
          "name": "stdout",
          "text": [
            "root\n",
            " |-- _c0: string (nullable = true)\n",
            " |-- _c1: string (nullable = true)\n",
            " |-- _c2: string (nullable = true)\n",
            " |-- _c3: string (nullable = true)\n",
            " |-- _c4: string (nullable = true)\n",
            " |-- _c5: string (nullable = true)\n",
            " |-- _c6: string (nullable = true)\n",
            " |-- _c7: string (nullable = true)\n",
            " |-- _c8: string (nullable = true)\n",
            " |-- _c9: string (nullable = true)\n",
            " |-- _c10: string (nullable = true)\n",
            " |-- _c11: string (nullable = true)\n",
            " |-- _c12: string (nullable = true)\n",
            " |-- _c13: string (nullable = true)\n",
            " |-- _c14: string (nullable = true)\n",
            " |-- _c15: string (nullable = true)\n",
            "\n"
          ]
        }
      ]
    },
    {
      "cell_type": "code",
      "source": [
        "# checking output schema\n",
        "output.printSchema()"
      ],
      "metadata": {
        "colab": {
          "base_uri": "https://localhost:8080/"
        },
        "id": "fUSx-6NsMwEK",
        "outputId": "761b1518-8548-4ca1-a2b3-ce618f585b36"
      },
      "execution_count": 27,
      "outputs": [
        {
          "output_type": "stream",
          "name": "stdout",
          "text": [
            "root\n",
            " |-- Area Name: string (nullable = true)\n",
            " |-- Area ID: string (nullable = true)\n",
            " |-- Park Name: string (nullable = true)\n",
            " |-- Park ID: string (nullable = true)\n",
            " |-- Squirrel ID: string (nullable = true)\n",
            " |-- Primary Fur Color: string (nullable = true)\n",
            " |-- Highlights in Fur Color: string (nullable = true)\n",
            " |-- Color Notes: string (nullable = true)\n",
            " |-- Location: string (nullable = true)\n",
            " |-- Above Ground (Height in Feet): string (nullable = true)\n",
            " |-- Specific Location: string (nullable = true)\n",
            " |-- Activities: string (nullable = true)\n",
            " |-- Interactions with Humans: string (nullable = true)\n",
            " |-- Squirrel Latitude (DD.DDDDDD): string (nullable = true)\n",
            " |-- Squirrel Longitude (-DD.DDDDDD): string (nullable = true)\n",
            " |-- hash: string (nullable = true)\n",
            "\n"
          ]
        }
      ]
    }
  ],
  "metadata": {
    "colab": {
      "provenance": [],
      "include_colab_link": true
    },
    "kernelspec": {
      "display_name": "Python 3",
      "name": "python3"
    },
    "language_info": {
      "name": "python"
    }
  },
  "nbformat": 4,
  "nbformat_minor": 0
}