{
  "cells": [
    {
      "cell_type": "markdown",
      "metadata": {
        "id": "view-in-github",
        "colab_type": "text"
      },
      "source": [
        "<a href=\"https://colab.research.google.com/github/mdias23i/DE-DataProcessing/blob/main/spark_streaming/examples/example_2_rate.ipynb\" target=\"_parent\"><img src=\"https://colab.research.google.com/assets/colab-badge.svg\" alt=\"Open In Colab\"/></a>"
      ]
    },
    {
      "cell_type": "markdown",
      "metadata": {
        "id": "4_GBE9UsyxwK"
      },
      "source": []
    },
    {
      "cell_type": "markdown",
      "metadata": {
        "id": "BOA_wQSmLd9z"
      },
      "source": [
        "# Usecase 2\n",
        "- Reading data from \"rate\"\n",
        "- Aggregating data by window time\n",
        "- Checking results from query in memory"
      ]
    },
    {
      "cell_type": "markdown",
      "metadata": {
        "id": "d9LeYFsPTjAb"
      },
      "source": [
        "# Setting up PySpark"
      ]
    },
    {
      "cell_type": "code",
      "execution_count": null,
      "metadata": {
        "colab": {
          "base_uri": "https://localhost:8080/"
        },
        "id": "uYXeODL0T1fO",
        "outputId": "c410e46c-4a50-43aa-926f-d0417c6280d2"
      },
      "outputs": [
        {
          "name": "stdout",
          "output_type": "stream",
          "text": [
            "Requirement already satisfied: pyspark in /usr/local/lib/python3.10/dist-packages (3.5.3)\n",
            "Requirement already satisfied: py4j==0.10.9.7 in /usr/local/lib/python3.10/dist-packages (from pyspark) (0.10.9.7)\n"
          ]
        }
      ],
      "source": [
        "%pip install pyspark"
      ]
    },
    {
      "cell_type": "code",
      "execution_count": 1,
      "metadata": {
        "id": "637HFw00T3LP"
      },
      "outputs": [],
      "source": [
        "from pyspark.sql import SparkSession\n",
        "\n",
        "spark = SparkSession.builder.master('local').appName('Test streaming').getOrCreate()"
      ]
    },
    {
      "cell_type": "markdown",
      "source": [
        "# Write output in memory"
      ],
      "metadata": {
        "id": "NwzaZIoxqvrd"
      }
    },
    {
      "cell_type": "code",
      "execution_count": 2,
      "metadata": {
        "id": "I4mGPfB-Xg_C"
      },
      "outputs": [],
      "source": [
        "import pyspark.sql.functions as F\n",
        "\n",
        "# read stream\n",
        "stream1 = spark.readStream.format(\"rate\").option(\"rowsPerSecond\", 10).load()\n",
        "\n",
        "# transform\n",
        "transformed = stream1.withColumn(\"minute\", F.minute(\"timestamp\"))\n",
        "agg = transformed.groupBy(F.window(transformed.timestamp, \"5 seconds\")).count()\n",
        "\n",
        "# write stream in memory\n",
        "query = (agg.writeStream\n",
        ".format('memory')\n",
        ".queryName('my_query')\n",
        ".outputMode('complete')\n",
        ".start()\n",
        ")"
      ]
    },
    {
      "cell_type": "code",
      "execution_count": 38,
      "metadata": {
        "colab": {
          "base_uri": "https://localhost:8080/"
        },
        "id": "UmLQLr1uX6w-",
        "outputId": "a86975f6-4d60-4169-bfae-8b22754d2773"
      },
      "outputs": [
        {
          "output_type": "stream",
          "name": "stdout",
          "text": [
            "+------------------------------------------+-----+\n",
            "|window                                    |count|\n",
            "+------------------------------------------+-----+\n",
            "|{2024-11-23 15:49:25, 2024-11-23 15:49:30}|9    |\n",
            "|{2024-11-23 15:49:20, 2024-11-23 15:49:25}|50   |\n",
            "|{2024-11-23 15:49:15, 2024-11-23 15:49:20}|50   |\n",
            "|{2024-11-23 15:49:10, 2024-11-23 15:49:15}|50   |\n",
            "|{2024-11-23 15:49:05, 2024-11-23 15:49:10}|50   |\n",
            "|{2024-11-23 15:49:00, 2024-11-23 15:49:05}|50   |\n",
            "|{2024-11-23 15:48:55, 2024-11-23 15:49:00}|50   |\n",
            "|{2024-11-23 15:48:50, 2024-11-23 15:48:55}|50   |\n",
            "|{2024-11-23 15:48:45, 2024-11-23 15:48:50}|50   |\n",
            "|{2024-11-23 15:48:40, 2024-11-23 15:48:45}|50   |\n",
            "+------------------------------------------+-----+\n",
            "only showing top 10 rows\n",
            "\n"
          ]
        }
      ],
      "source": [
        "spark.sql(\"select * from my_query order by window desc\").show(10,False)"
      ]
    },
    {
      "cell_type": "code",
      "execution_count": 39,
      "metadata": {
        "id": "TbLt4cUkX-JZ"
      },
      "outputs": [],
      "source": [
        "query.stop()"
      ]
    },
    {
      "cell_type": "markdown",
      "source": [
        "# Write output as parquet\n"
      ],
      "metadata": {
        "id": "Dc3r3j-wj16K"
      }
    },
    {
      "cell_type": "code",
      "source": [
        "!rm -rf content/output"
      ],
      "metadata": {
        "id": "N_BZRFCCpGq9"
      },
      "execution_count": 40,
      "outputs": []
    },
    {
      "cell_type": "code",
      "execution_count": 41,
      "metadata": {
        "id": "v180mzIciVZH"
      },
      "outputs": [],
      "source": [
        "import pyspark.sql.functions as F\n",
        "from pyspark.sql import DataFrame\n",
        "\n",
        "def save_parquet(df, batch_id):\n",
        "  (df\n",
        "   .withColumn(\"batch_id\",F.lit(batch_id))\n",
        "   .withColumn(\"load_time\",F.current_timestamp())\n",
        "   .write.mode(\"append\")\n",
        "   .parquet(\"content/output/rate_parquet\")\n",
        "  )\n",
        "\n",
        "# read stream\n",
        "stream1 = spark.readStream.format(\"rate\").option(\"rowsPerSecond\", 10).load()\n",
        "\n",
        "# transform\n",
        "transformed = stream1.withWatermark(\"timestamp\", \"5 seconds\").withColumn(\"minute\", F.minute(\"timestamp\"))\n",
        "agg = transformed.groupBy(F.window(transformed.timestamp, \"5 seconds\")).count()\n",
        "\n",
        "# write stream as parquet with foreachBatch\n",
        "query = (agg.writeStream\n",
        ".option('checkpointLocation', 'content/output/checkpoint')\n",
        ".trigger(processingTime='20 seconds')\n",
        ".outputMode('append')\n",
        ".foreachBatch(save_parquet)\n",
        ".start()\n",
        ")\n"
      ]
    },
    {
      "cell_type": "code",
      "source": [
        "result = spark.read.format(\"parquet\").load(\"content/output/rate_parquet/\")\n",
        "result.sort(F.asc(\"window\")).show(100, False)"
      ],
      "metadata": {
        "colab": {
          "base_uri": "https://localhost:8080/"
        },
        "id": "-3SWIR6Ml8Al",
        "outputId": "1fe057ce-8df6-4197-e30d-b4758c315321"
      },
      "execution_count": 47,
      "outputs": [
        {
          "output_type": "stream",
          "name": "stdout",
          "text": [
            "+------------------------------------------+-----+--------+--------------------------+\n",
            "|window                                    |count|batch_id|load_time                 |\n",
            "+------------------------------------------+-----+--------+--------------------------+\n",
            "|{2024-11-23 15:54:20, 2024-11-23 15:54:25}|40   |2       |2024-11-23 15:55:00.269719|\n",
            "|{2024-11-23 15:54:25, 2024-11-23 15:54:30}|50   |2       |2024-11-23 15:55:00.269719|\n",
            "|{2024-11-23 15:54:30, 2024-11-23 15:54:35}|50   |3       |2024-11-23 15:55:20.194862|\n",
            "|{2024-11-23 15:54:35, 2024-11-23 15:54:40}|50   |3       |2024-11-23 15:55:20.194862|\n",
            "|{2024-11-23 15:54:40, 2024-11-23 15:54:45}|50   |3       |2024-11-23 15:55:20.194862|\n",
            "|{2024-11-23 15:54:45, 2024-11-23 15:54:50}|50   |3       |2024-11-23 15:55:20.194862|\n",
            "|{2024-11-23 15:54:50, 2024-11-23 15:54:55}|50   |4       |2024-11-23 15:55:40.27568 |\n",
            "|{2024-11-23 15:54:55, 2024-11-23 15:55:00}|50   |4       |2024-11-23 15:55:40.27568 |\n",
            "|{2024-11-23 15:55:00, 2024-11-23 15:55:05}|50   |4       |2024-11-23 15:55:40.27568 |\n",
            "|{2024-11-23 15:55:05, 2024-11-23 15:55:10}|50   |4       |2024-11-23 15:55:40.27568 |\n",
            "|{2024-11-23 15:55:10, 2024-11-23 15:55:15}|50   |5       |2024-11-23 15:56:00.295474|\n",
            "|{2024-11-23 15:55:15, 2024-11-23 15:55:20}|50   |5       |2024-11-23 15:56:00.295474|\n",
            "|{2024-11-23 15:55:20, 2024-11-23 15:55:25}|50   |5       |2024-11-23 15:56:00.295474|\n",
            "|{2024-11-23 15:55:25, 2024-11-23 15:55:30}|50   |5       |2024-11-23 15:56:00.295474|\n",
            "|{2024-11-23 15:55:30, 2024-11-23 15:55:35}|50   |6       |2024-11-23 15:56:20.213496|\n",
            "|{2024-11-23 15:55:35, 2024-11-23 15:55:40}|50   |6       |2024-11-23 15:56:20.213496|\n",
            "|{2024-11-23 15:55:40, 2024-11-23 15:55:45}|50   |6       |2024-11-23 15:56:20.213496|\n",
            "|{2024-11-23 15:55:45, 2024-11-23 15:55:50}|50   |6       |2024-11-23 15:56:20.213496|\n",
            "|{2024-11-23 15:55:50, 2024-11-23 15:55:55}|50   |7       |2024-11-23 15:56:40.160435|\n",
            "|{2024-11-23 15:55:55, 2024-11-23 15:56:00}|50   |7       |2024-11-23 15:56:40.160435|\n",
            "|{2024-11-23 15:56:00, 2024-11-23 15:56:05}|50   |7       |2024-11-23 15:56:40.160435|\n",
            "|{2024-11-23 15:56:05, 2024-11-23 15:56:10}|50   |7       |2024-11-23 15:56:40.160435|\n",
            "|{2024-11-23 15:56:10, 2024-11-23 15:56:15}|50   |8       |2024-11-23 15:57:00.486664|\n",
            "|{2024-11-23 15:56:15, 2024-11-23 15:56:20}|50   |8       |2024-11-23 15:57:00.486664|\n",
            "|{2024-11-23 15:56:20, 2024-11-23 15:56:25}|50   |8       |2024-11-23 15:57:00.486664|\n",
            "|{2024-11-23 15:56:25, 2024-11-23 15:56:30}|50   |8       |2024-11-23 15:57:00.486664|\n",
            "|{2024-11-23 15:56:30, 2024-11-23 15:56:35}|50   |9       |2024-11-23 15:57:20.238919|\n",
            "|{2024-11-23 15:56:35, 2024-11-23 15:56:40}|50   |9       |2024-11-23 15:57:20.238919|\n",
            "|{2024-11-23 15:56:40, 2024-11-23 15:56:45}|50   |9       |2024-11-23 15:57:20.238919|\n",
            "|{2024-11-23 15:56:45, 2024-11-23 15:56:50}|50   |9       |2024-11-23 15:57:20.238919|\n",
            "|{2024-11-23 15:56:50, 2024-11-23 15:56:55}|50   |10      |2024-11-23 15:57:40.414069|\n",
            "|{2024-11-23 15:56:55, 2024-11-23 15:57:00}|50   |10      |2024-11-23 15:57:40.414069|\n",
            "|{2024-11-23 15:57:00, 2024-11-23 15:57:05}|50   |10      |2024-11-23 15:57:40.414069|\n",
            "|{2024-11-23 15:57:05, 2024-11-23 15:57:10}|50   |10      |2024-11-23 15:57:40.414069|\n",
            "|{2024-11-23 15:57:10, 2024-11-23 15:57:15}|50   |11      |2024-11-23 15:58:00.173992|\n",
            "|{2024-11-23 15:57:15, 2024-11-23 15:57:20}|50   |11      |2024-11-23 15:58:00.173992|\n",
            "|{2024-11-23 15:57:20, 2024-11-23 15:57:25}|50   |11      |2024-11-23 15:58:00.173992|\n",
            "|{2024-11-23 15:57:25, 2024-11-23 15:57:30}|50   |11      |2024-11-23 15:58:00.173992|\n",
            "|{2024-11-23 15:57:30, 2024-11-23 15:57:35}|50   |12      |2024-11-23 15:58:20.438648|\n",
            "|{2024-11-23 15:57:35, 2024-11-23 15:57:40}|50   |12      |2024-11-23 15:58:20.438648|\n",
            "|{2024-11-23 15:57:40, 2024-11-23 15:57:45}|50   |12      |2024-11-23 15:58:20.438648|\n",
            "|{2024-11-23 15:57:45, 2024-11-23 15:57:50}|50   |12      |2024-11-23 15:58:20.438648|\n",
            "+------------------------------------------+-----+--------+--------------------------+\n",
            "\n"
          ]
        }
      ]
    },
    {
      "cell_type": "code",
      "source": [
        "query.stop()"
      ],
      "metadata": {
        "id": "DKB-MAPOoEre"
      },
      "execution_count": 49,
      "outputs": []
    },
    {
      "cell_type": "markdown",
      "source": [
        "# Enrich data with faker"
      ],
      "metadata": {
        "id": "GjAp1IKnvteX"
      }
    },
    {
      "cell_type": "code",
      "source": [
        "!pip install faker"
      ],
      "metadata": {
        "id": "_gauZX8MFP5f",
        "outputId": "d142c9bc-bd12-4cb0-854c-2a0f98bf52e0",
        "colab": {
          "base_uri": "https://localhost:8080/"
        }
      },
      "execution_count": 50,
      "outputs": [
        {
          "output_type": "stream",
          "name": "stdout",
          "text": [
            "Collecting faker\n",
            "  Downloading Faker-33.0.0-py3-none-any.whl.metadata (15 kB)\n",
            "Requirement already satisfied: python-dateutil>=2.4 in /usr/local/lib/python3.10/dist-packages (from faker) (2.8.2)\n",
            "Requirement already satisfied: typing-extensions in /usr/local/lib/python3.10/dist-packages (from faker) (4.12.2)\n",
            "Requirement already satisfied: six>=1.5 in /usr/local/lib/python3.10/dist-packages (from python-dateutil>=2.4->faker) (1.16.0)\n",
            "Downloading Faker-33.0.0-py3-none-any.whl (1.9 MB)\n",
            "\u001b[?25l   \u001b[90m━━━━━━━━━━━━━━━━━━━━━━━━━━━━━━━━━━━━━━━━\u001b[0m \u001b[32m0.0/1.9 MB\u001b[0m \u001b[31m?\u001b[0m eta \u001b[36m-:--:--\u001b[0m\r\u001b[2K   \u001b[91m━━━━━\u001b[0m\u001b[91m╸\u001b[0m\u001b[90m━━━━━━━━━━━━━━━━━━━━━━━━━━━━━━━━━━\u001b[0m \u001b[32m0.3/1.9 MB\u001b[0m \u001b[31m8.0 MB/s\u001b[0m eta \u001b[36m0:00:01\u001b[0m\r\u001b[2K   \u001b[91m━━━━━━━━━━━━━━━━━━━━━━━━━━━━━━━━━━━━━━━\u001b[0m\u001b[91m╸\u001b[0m \u001b[32m1.9/1.9 MB\u001b[0m \u001b[31m27.1 MB/s\u001b[0m eta \u001b[36m0:00:01\u001b[0m\r\u001b[2K   \u001b[90m━━━━━━━━━━━━━━━━━━━━━━━━━━━━━━━━━━━━━━━━\u001b[0m \u001b[32m1.9/1.9 MB\u001b[0m \u001b[31m19.2 MB/s\u001b[0m eta \u001b[36m0:00:00\u001b[0m\n",
            "\u001b[?25hInstalling collected packages: faker\n",
            "Successfully installed faker-33.0.0\n"
          ]
        }
      ]
    },
    {
      "cell_type": "code",
      "source": [
        "!rm -rf content/output/events"
      ],
      "metadata": {
        "id": "UFND4p5-2Na5"
      },
      "execution_count": 51,
      "outputs": []
    },
    {
      "cell_type": "code",
      "source": [
        "import pyspark.sql.functions as F\n",
        "from pyspark.sql import DataFrame\n",
        "from faker import Faker\n",
        "\n",
        "def insert_into_table(df, batch_id):\n",
        "  fake = Faker()\n",
        "  new_columns = {\n",
        "      'name': F.lit(fake.name()),\n",
        "      'address': F.lit(fake.address()),\n",
        "      'email': F.lit(fake.email()),\n",
        "      'dob': F.lit(fake.date_of_birth()),\n",
        "      'phone': F.lit(fake.phone_number())\n",
        "  }\n",
        "  df = df.withColumns(new_columns)\n",
        "  df.write.mode(\"append\").format(\"parquet\").save(\"content/output/events\")\n",
        "\n",
        "# read stream\n",
        "df_stream = spark.readStream.format(\"rate\").option(\"rowsPerSecond\", 1).load()\n",
        "\n",
        "# write stream\n",
        "query = (df_stream.writeStream\n",
        ".outputMode('append')\n",
        ".trigger(processingTime='1 seconds')\n",
        ".foreachBatch(insert_into_table)\n",
        ".start()\n",
        ")"
      ],
      "metadata": {
        "id": "WCUhAzDOD4Q3"
      },
      "execution_count": 56,
      "outputs": []
    },
    {
      "cell_type": "code",
      "source": [
        "query.stop()\n"
      ],
      "metadata": {
        "id": "KEMAlpKhwLNu"
      },
      "execution_count": 54,
      "outputs": []
    },
    {
      "cell_type": "code",
      "source": [
        "spark.read.parquet(\"content/output/events\").show(100, False)"
      ],
      "metadata": {
        "id": "89s50dHjECqk",
        "outputId": "b258e0e3-45a4-48d7-c350-0ee437c2d754",
        "colab": {
          "base_uri": "https://localhost:8080/"
        }
      },
      "execution_count": 57,
      "outputs": [
        {
          "output_type": "stream",
          "name": "stdout",
          "text": [
            "+-----------------------+-----+-------------------+----------------------------------------------------------+---------------------------+----------+---------------------+\n",
            "|timestamp              |value|name               |address                                                   |email                      |dob       |phone                |\n",
            "+-----------------------+-----+-------------------+----------------------------------------------------------+---------------------------+----------+---------------------+\n",
            "|2024-11-23 16:02:14.308|33   |Jenna Gilbert      |119 Bradshaw Dam\\nSouth Sharonberg, IA 43628              |jeremybrown@example.org    |1936-08-08|001-992-876-1588x3496|\n",
            "|2024-11-23 16:02:15.308|34   |Jenna Gilbert      |119 Bradshaw Dam\\nSouth Sharonberg, IA 43628              |jeremybrown@example.org    |1936-08-08|001-992-876-1588x3496|\n",
            "|2024-11-23 16:02:23.308|42   |Mr. Robert Ortiz MD|4193 Christian Views Apt. 507\\nEdwardchester, GA 70126    |wsellers@example.org       |1934-08-21|425-795-2530x42552   |\n",
            "|2024-11-23 16:02:43.308|62   |Christina Sanchez  |8215 Angelica Turnpike Apt. 902\\nEast Danielland, UT 14027|tanyalopez@example.com     |2006-12-15|340.840.2605         |\n",
            "|2024-11-23 16:01:47.308|6    |Walter Contreras   |081 Stevens Mission Suite 673\\nSouth Samantha, PA 23289   |greenkristin@example.com   |1918-01-11|(462)272-5720        |\n",
            "|2024-11-23 16:02:03.308|22   |Nichole Mueller    |93344 Erin Square Apt. 764\\nEast Daniel, CT 40514         |allenjennifer@example.com  |1960-04-25|427.711.4341x67111   |\n",
            "|2024-11-23 16:05:43.194|0    |Robert Thompson    |57944 Castro Island Suite 673\\nWillieview, IA 11990       |douglaswilson@example.com  |1960-12-15|223-840-7418x735     |\n",
            "|2024-11-23 16:02:00.308|19   |Anthony Smith      |9784 Gardner Knoll Apt. 298\\nPadillatown, MP 53785        |doughertydonald@example.com|2007-08-20|357-237-3252x837     |\n",
            "|2024-11-23 16:02:53.308|72   |Taylor Nelson      |8983 Andrew Highway Apt. 388\\nSchneiderville, OR 76058    |kevin26@example.com        |2005-10-22|001-630-312-5918x662 |\n",
            "|2024-11-23 16:01:46.308|5    |Richard Kelley     |814 Murphy Route Suite 768\\nEast Evanview, NM 06015       |singhashley@example.com    |1946-08-24|925-394-9157x13897   |\n",
            "|2024-11-23 16:02:28.308|47   |Amy Johnson        |5585 Kimberly Tunnel Apt. 141\\nChambersville, FM 69953    |salinasdaniel@example.net  |1933-01-05|670.212.0490x277     |\n",
            "|2024-11-23 16:02:21.308|40   |Jane Bailey        |5779 Ashley Keys Apt. 256\\nWest Margaretfort, HI 64600    |djohnson@example.org       |2010-11-17|001-236-451-3516x2792|\n",
            "|2024-11-23 16:02:27.308|46   |Kelly Neal         |16181 Jacqueline Estates Apt. 796\\nRangeltown, NH 21511   |devonmathis@example.org    |1970-04-25|(659)229-3002x6465   |\n",
            "|2024-11-23 16:01:50.308|9    |Kimberly Weber     |5198 Rachel Ports Suite 317\\nSouth Bryanmouth, AL 09677   |michaeljones@example.com   |2004-05-09|821-487-7174         |\n",
            "|2024-11-23 16:01:48.308|7    |Daniel Thompson    |62612 Keith Valleys\\nCynthiachester, AZ 47878             |lauriejimenez@example.org  |1972-11-13|+1-604-906-0758x435  |\n",
            "|2024-11-23 16:02:44.308|63   |William Robertson  |764 Hudson Hollow Suite 274\\nEast Brianbury, OK 65116     |waltereric@example.org     |1924-07-17|421-838-4560         |\n",
            "|2024-11-23 16:02:13.308|32   |Stephen Williams   |340 Walsh Plains\\nNew Tamaraside, LA 45304                |joycerodriguez@example.com |1967-04-09|+1-813-282-9094x2603 |\n",
            "|2024-11-23 16:02:37.308|56   |Mr. Samuel Shaw PhD|83927 Ward Ferry Apt. 789\\nDeniseberg, LA 60692           |jeffrey00@example.net      |1993-10-24|001-839-756-7985     |\n",
            "|2024-11-23 16:02:31.308|50   |Deborah Young      |503 Kathryn Prairie Suite 279\\nPort Amy, VT 49469         |anndavidson@example.com    |1969-11-13|560-582-3217x01314   |\n",
            "|2024-11-23 16:02:40.308|59   |Alyssa Morris      |649 Roberto Oval Apt. 452\\nPort Heather, TX 54662         |michaelbrown@example.org   |1981-03-05|640.671.6642x870     |\n",
            "|2024-11-23 16:02:42.308|61   |Nicole Ramirez     |478 Richard Hollow Apt. 851\\nNew Jesse, WA 15775          |jacob27@example.com        |2013-07-18|001-413-224-9421x9014|\n",
            "|2024-11-23 16:02:04.308|23   |Kevin Wood         |11822 Turner Fort Apt. 686\\nStephaniechester, DE 84611    |reevesisaiah@example.net   |2005-03-20|(669)848-6558        |\n",
            "|2024-11-23 16:02:41.308|60   |Denise King        |749 William Drive Apt. 386\\nWest Michael, PW 85168        |tburnett@example.net       |1970-04-09|+1-732-560-8226x2156 |\n",
            "|2024-11-23 16:02:26.308|45   |Andrew Johnson     |7516 Olson Junction Apt. 952\\nPort Timothy, MS 73581      |taylorsheri@example.net    |1979-12-25|806.647.6771         |\n",
            "|2024-11-23 16:02:30.308|49   |Keith Smith        |8961 Richard Stravenue\\nLake Dianeburgh, KS 98283         |lewisraymond@example.org   |2019-12-11|613-655-8831x0926    |\n",
            "|2024-11-23 16:02:05.308|24   |Martha Cochran     |18253 Jonathan Pike Apt. 318\\nGriffinmouth, PW 09562      |wagneramanda@example.org   |1922-06-02|9284360799           |\n",
            "|2024-11-23 16:02:12.308|31   |David Thompson     |1609 Sharon Street Apt. 534\\nThompsonberg, TN 90892       |rwilson@example.com        |1917-01-17|001-339-721-2921     |\n",
            "|2024-11-23 16:02:29.308|48   |Tammy York         |49147 Dickson Springs Suite 358\\nColemanstad, ME 54635    |wendy07@example.org        |1973-02-19|(744)521-6601x571    |\n",
            "|2024-11-23 16:02:49.308|68   |Heather Rodriguez  |70164 Andrew Roads Suite 476\\nJohnsonhaven, DC 01836      |rebecca18@example.net      |2002-09-16|4167341057           |\n",
            "|2024-11-23 16:02:08.308|27   |David Lynch        |908 Weaver Common Suite 747\\nSouth Tiffany, MS 86669      |iroberts@example.org       |1921-01-01|658.486.6004x2635    |\n",
            "|2024-11-23 16:01:42.308|1    |Brandon Johnson    |220 Louis Lights Apt. 265\\nLake Courtney, SC 28577        |bmay@example.com           |1928-02-20|322-941-5931x00645   |\n",
            "|2024-11-23 16:02:10.308|29   |Misty Thompson     |57021 Natalie Stravenue\\nPort Deborah, PR 67489           |ewarner@example.com        |1955-08-05|(967)685-7537x50181  |\n",
            "|2024-11-23 16:02:09.308|28   |David Murray       |837 Diana Squares Apt. 058\\nEast Donna, MD 68317          |michael13@example.com      |1947-02-21|(974)461-6689x4197   |\n",
            "|2024-11-23 16:01:54.308|13   |Alyssa Serrano     |305 Acosta Spurs Apt. 908\\nRobertland, OR 10334           |obrown@example.com         |1973-06-04|+1-325-333-0070x5881 |\n",
            "|2024-11-23 16:01:55.308|14   |Kristin Dawson     |607 Williams Port Suite 024\\nNew Clayton, IL 11157        |lewisdustin@example.net    |1964-08-18|955-730-0515         |\n",
            "|2024-11-23 16:02:01.308|20   |Jenna Kline        |364 Sharon Branch Apt. 597\\nWest Patrick, OH 92355        |robinsonkevin@example.org  |1918-03-17|998.368.6631         |\n",
            "|2024-11-23 16:02:36.308|55   |Andrew Hall        |7687 Christina Port\\nJoshuashire, MI 40249                |daniellejames@example.org  |1924-02-07|+1-624-470-9443x989  |\n",
            "|2024-11-23 16:02:18.308|37   |Kimberly Lowe      |642 Johnson Neck\\nNorth Scottburgh, AL 59863              |george50@example.com       |2000-04-30|001-244-976-0720x055 |\n",
            "|2024-11-23 16:02:02.308|21   |Amy Joseph         |49735 Michael Extensions Apt. 531\\nHunthaven, MP 26200    |kelleybrian@example.net    |1916-06-02|6756324848           |\n",
            "|2024-11-23 16:02:22.308|41   |Linda Poole        |4776 Jacqueline Lakes Suite 926\\nCainmouth, OK 90753      |sfletcher@example.org      |1961-09-01|(843)363-8554        |\n",
            "|2024-11-23 16:01:59.308|18   |William Johnson    |0254 Vega Curve Apt. 484\\nLake Dawnstad, AK 75622         |madeline23@example.org     |1922-08-30|8524079761           |\n",
            "|2024-11-23 16:02:52.308|71   |Randy Becker       |4612 Cruz Turnpike Suite 128\\nNicholasberg, MO 95171      |halexander@example.net     |1955-10-05|7415136587           |\n",
            "|2024-11-23 16:02:46.308|65   |Angel Lambert      |4498 Bond Wells Apt. 108\\nSouth Seanstad, PW 43910        |thomas99@example.com       |1994-07-09|(645)416-4267        |\n",
            "|2024-11-23 16:02:34.308|53   |Brian Thompson     |2632 Timothy Brook\\nKennethfurt, OK 63499                 |zachary77@example.org      |1956-08-20|+1-902-820-5541x1904 |\n",
            "|2024-11-23 16:02:48.308|67   |Sean Shaw          |11692 Diane Throughway\\nPort Ivan, WV 50767               |gomezkenneth@example.com   |1915-12-27|788-597-4566x60651   |\n",
            "|2024-11-23 16:02:45.308|64   |Danielle Cruz      |5437 Bradshaw Shoals\\nMillermouth, LA 44619               |mirandabrian@example.org   |1978-11-18|(569)419-8294        |\n",
            "|2024-11-23 16:01:56.308|15   |Jeremy Doyle       |47790 Gary Island Suite 425\\nTaylorhaven, ND 58745        |bmiller@example.net        |1994-08-23|853.650.3882         |\n",
            "|2024-11-23 16:02:51.308|70   |Ashley Munoz       |661 Terry Junction\\nBiancaburgh, NH 18638                 |david25@example.com        |1922-10-29|+1-857-998-4484x12598|\n",
            "|2024-11-23 16:02:19.308|38   |Timothy Wright     |772 Gary Loop\\nOliviaborough, IL 20289                    |chelsealeach@example.org   |1945-10-09|736.765.5802x501     |\n",
            "|2024-11-23 16:02:17.308|36   |David Rosario MD   |414 Ward Mountains\\nWest Laura, FL 31195                  |pallison@example.com       |1965-03-09|001-389-948-9374     |\n",
            "|2024-11-23 16:01:58.308|17   |Crystal Garcia     |05593 Mark Skyway\\nPort Tiffany, MT 91288                 |zsmith@example.net         |1933-11-16|983.773.9633x68626   |\n",
            "|2024-11-23 16:02:33.308|52   |Margaret Romero    |5148 Amanda Roads\\nLake Jerryfort, AR 78067               |jjoyce@example.com         |1973-08-11|+1-832-888-4594      |\n",
            "|2024-11-23 16:02:38.308|57   |Samantha Robbins MD|7396 Lee View\\nEast Mark, MA 36665                        |dean80@example.org         |1935-03-15|001-858-591-4452x271 |\n",
            "|2024-11-23 16:01:49.308|8    |Dr. Jacob Sanchez  |USS Figueroa\\nFPO AE 48572                                |tristanmccann@example.net  |1941-06-07|+1-732-316-7791x11968|\n",
            "|2024-11-23 16:02:24.308|43   |Karen Lucas        |4952 Gould Lane\\nNorth Brianberg, MS 38619                |christopher13@example.org  |2022-03-16|5475507417           |\n",
            "|2024-11-23 16:02:16.308|35   |Joseph Todd        |239 Patterson Lakes\\nEricfurt, PA 71555                   |ymiller@example.net        |2006-11-23|+1-960-737-2161x584  |\n",
            "|2024-11-23 16:01:52.308|11   |Amy Griffith       |7506 Roger Street\\nMeredithland, MH 16490                 |teresawest@example.org     |2007-04-15|(568)854-1349        |\n",
            "|2024-11-23 16:02:11.308|30   |Ashley Larson      |966 Christopher Forge\\nSarahhaven, AS 64615               |lstanley@example.net       |1989-09-17|659-395-7103         |\n",
            "|2024-11-23 16:01:43.308|2    |Kelli Summers      |9768 Herring Viaduct\\nTracyland, NH 01153                 |iolson@example.net         |1945-01-13|+1-803-618-0811      |\n",
            "|2024-11-23 16:01:57.308|16   |Jamie Griffith     |Unit 9273 Box 0570\\nDPO AP 83451                          |heather17@example.org      |1977-02-05|+1-225-919-5899x0579 |\n",
            "|2024-11-23 16:01:53.308|12   |Emily Jones        |315 Hill Landing\\nBurtonfort, NY 96061                    |jessicamendez@example.com  |1973-04-17|903-914-3571         |\n",
            "|2024-11-23 16:01:44.308|3    |Jill Silva         |5908 Amanda Flat\\nBenjamintown, TN 83949                  |dsmith@example.net         |1911-06-22|294.675.6977x89578   |\n",
            "|2024-11-23 16:02:35.308|54   |Denise Craig       |PSC 3321, Box 3373\\nAPO AA 18018                          |christian60@example.com    |1919-10-04|(754)412-9100x72607  |\n",
            "|2024-11-23 16:02:07.308|26   |Anthony Jacobs     |PSC 4523, Box 2120\\nAPO AA 73408                          |wardangela@example.net     |1950-03-07|434-440-7732x6518    |\n",
            "|2024-11-23 16:02:32.308|51   |Jennifer Harris DVM|Unit 6431 Box 8143\\nDPO AA 73898                          |bcombs@example.org         |1916-10-01|001-406-836-6200     |\n",
            "|2024-11-23 16:02:50.308|69   |Regina Williams    |PSC 1661, Box 1146\\nAPO AE 27439                          |acarr@example.net          |1926-11-25|+1-217-579-4277x5996 |\n",
            "|2024-11-23 16:02:39.308|58   |Richard Armstrong  |USCGC Weeks\\nFPO AE 00513                                 |johnramos@example.org      |1965-11-03|001-496-565-9574x6147|\n",
            "|2024-11-23 16:02:06.308|25   |Carlos Davis       |18970 Randall Route\\nLindseyside, MH 82051                |rita61@example.net         |1937-03-05|6894761781           |\n",
            "|2024-11-23 16:01:41.308|0    |April Phillips     |USNV Wagner\\nFPO AP 27547                                 |andersonjasmine@example.org|2012-02-25|847.556.5736x984     |\n",
            "|2024-11-23 16:02:20.308|39   |Joseph Baker       |PSC 5657, Box 0101\\nAPO AA 29779                          |joy13@example.com          |2013-01-14|730.888.7151x2829    |\n",
            "|2024-11-23 16:02:47.308|66   |Katherine Love     |PSC 8912, Box 9739\\nAPO AA 52998                          |mmurray@example.org        |1993-12-24|(412)874-9022        |\n",
            "|2024-11-23 16:01:51.308|10   |Ariel Young        |USCGC Strickland\\nFPO AA 79542                            |hcohen@example.org         |1991-12-22|+1-444-833-4017x168  |\n",
            "|2024-11-23 16:01:45.308|4    |Michael Robles     |Unit 3363 Box 1859\\nDPO AP 33212                          |sydneylee@example.org      |1972-06-19|9443804867           |\n",
            "|2024-11-23 16:02:25.308|44   |Elizabeth Smith    |USNS Jordan\\nFPO AP 00562                                 |jamesburnett@example.net   |1980-12-07|3348690158           |\n",
            "+-----------------------+-----+-------------------+----------------------------------------------------------+---------------------------+----------+---------------------+\n",
            "\n"
          ]
        }
      ]
    },
    {
      "cell_type": "code",
      "source": [
        "query.stop()"
      ],
      "metadata": {
        "id": "m22vpxcxIUNa"
      },
      "execution_count": 58,
      "outputs": []
    }
  ],
  "metadata": {
    "colab": {
      "provenance": [],
      "include_colab_link": true
    },
    "kernelspec": {
      "display_name": "Python 3",
      "name": "python3"
    },
    "language_info": {
      "name": "python"
    }
  },
  "nbformat": 4,
  "nbformat_minor": 0
}