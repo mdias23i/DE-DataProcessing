{
  "cells": [
    {
      "cell_type": "markdown",
      "metadata": {
        "id": "view-in-github",
        "colab_type": "text"
      },
      "source": [
        "<a href=\"https://colab.research.google.com/github/mdias23i/DE-DataProcessing/blob/main/spark_streaming/examples/example_3_api_json.ipynb\" target=\"_parent\"><img src=\"https://colab.research.google.com/assets/colab-badge.svg\" alt=\"Open In Colab\"/></a>"
      ]
    },
    {
      "cell_type": "markdown",
      "metadata": {
        "id": "4_GBE9UsyxwK"
      },
      "source": []
    },
    {
      "cell_type": "markdown",
      "metadata": {
        "id": "d9LeYFsPTjAb"
      },
      "source": [
        "# Setting up PySpark"
      ]
    },
    {
      "cell_type": "code",
      "execution_count": 1,
      "metadata": {
        "colab": {
          "base_uri": "https://localhost:8080/"
        },
        "id": "uYXeODL0T1fO",
        "outputId": "502d5cc5-0a6a-48d4-f0f1-b3378ff7288a"
      },
      "outputs": [
        {
          "output_type": "stream",
          "name": "stdout",
          "text": [
            "Requirement already satisfied: pyspark in /usr/local/lib/python3.10/dist-packages (3.5.3)\n",
            "Requirement already satisfied: py4j==0.10.9.7 in /usr/local/lib/python3.10/dist-packages (from pyspark) (0.10.9.7)\n"
          ]
        }
      ],
      "source": [
        "%pip install pyspark"
      ]
    },
    {
      "cell_type": "code",
      "execution_count": 145,
      "metadata": {
        "id": "637HFw00T3LP"
      },
      "outputs": [],
      "source": [
        "from pyspark.sql import SparkSession\n",
        "\n",
        "spark = SparkSession.builder.master('local').appName('Test streaming').getOrCreate()\n",
        "sc = spark.sparkContext"
      ]
    },
    {
      "cell_type": "code",
      "source": [
        "!rm -rf /content/landing\n",
        "!rm -rf /content/bronze\n",
        "!mkdir -p /content/landing"
      ],
      "metadata": {
        "id": "aF7fzyYIJi0l"
      },
      "execution_count": 142,
      "outputs": []
    },
    {
      "cell_type": "markdown",
      "source": [
        "## Simulate producer:\n",
        "- extract data from API\n",
        "- store data as json in the lake\n",
        "- run task async"
      ],
      "metadata": {
        "id": "RZdHGoFyTlMt"
      }
    },
    {
      "cell_type": "code",
      "source": [
        "import requests\n",
        "from pyspark.sql.types import *\n",
        "import json\n",
        "import datetime\n",
        "import asyncio\n",
        "\n",
        "async def ingest_from_api(url: str, table: str, schema: StructType = None):\n",
        "  response = requests.get(url)\n",
        "  timestamp = datetime.datetime.now().strftime(\"%Y%m%d%H%M%S\")\n",
        "  if response.status_code == 200:\n",
        "    data = response.json()\n",
        "    with open(f\"/content/landing/{table}_{int(timestamp)}.json\", \"w\") as f:\n",
        "        json.dump(data, f)\n",
        "\n",
        "async def producer(loop: int, interval_time: int):\n",
        "  for i in range(loop):\n",
        "    await ingest_from_api(\"https://api.carrismetropolitana.pt/vehicles\", \"vehicles\")\n",
        "    await ingest_from_api(\"https://api.carrismetropolitana.pt/lines\", \"lines\")\n",
        "    await asyncio.sleep(interval_time)\n",
        "\n",
        "async def main():\n",
        "  asyncio.create_task(producer(10, 30))\n",
        "\n",
        "await main()"
      ],
      "metadata": {
        "id": "tTQhp8UbFUCl"
      },
      "execution_count": 146,
      "outputs": []
    },
    {
      "cell_type": "markdown",
      "source": [
        "- Read from /content/landing as streaming\n",
        "- store data in memory (for testing)\n",
        "- store data in the bronze layer"
      ],
      "metadata": {
        "id": "kIqHdZEKUEmo"
      }
    },
    {
      "cell_type": "code",
      "source": [
        "from pyspark.sql.types import *\n",
        "\n",
        "vehicle_schema = StructType([StructField('bearing', IntegerType(), True),\n",
        "                             StructField('block_id', StringType(), True),\n",
        "                             StructField('current_status', StringType(), True),\n",
        "                             StructField('id', StringType(), True),\n",
        "                             StructField('lat', FloatType(), True),\n",
        "                             StructField('line_id', StringType(), True),\n",
        "                             StructField('lon', FloatType(), True),\n",
        "                             StructField('pattern_id', StringType(), True),\n",
        "                             StructField('route_id', StringType(), True),\n",
        "                             StructField('schedule_relationship', StringType(), True),\n",
        "                             StructField('shift_id', StringType(), True),\n",
        "                             StructField('speed', FloatType(), True),\n",
        "                             StructField('stop_id', StringType(), True),\n",
        "                             StructField('timestamp', TimestampType(), True),\n",
        "                             StructField('trip_id', StringType(), True)])\n",
        "\n",
        "stream = spark.readStream.format(\"json\").schema(vehicle_schema).load(\"/content/landing/vehicles*\")\n",
        "\n",
        "dedup = stream.dropDuplicates()"
      ],
      "metadata": {
        "id": "_dTSf527Fhy0"
      },
      "execution_count": 147,
      "outputs": []
    },
    {
      "cell_type": "code",
      "source": [],
      "metadata": {
        "id": "v0TUw9XXffrH"
      },
      "execution_count": 101,
      "outputs": []
    },
    {
      "cell_type": "code",
      "source": [
        "# using memory for testing\n",
        "try:\n",
        "  if query.isActive:\n",
        "    query.stop()\n",
        "except:\n",
        "  pass\n",
        "\n",
        "query = (dedup.writeStream.format(\"memory\").option(\"queryName\", \"vehicles\").start())"
      ],
      "metadata": {
        "id": "9N99eI41UUFA"
      },
      "execution_count": 148,
      "outputs": []
    },
    {
      "cell_type": "code",
      "source": [
        "query.lastProgress"
      ],
      "metadata": {
        "id": "P67geUoQgyif",
        "outputId": "d09daf0d-6d9d-44ca-8219-979db14e8a76",
        "colab": {
          "base_uri": "https://localhost:8080/"
        }
      },
      "execution_count": 152,
      "outputs": [
        {
          "output_type": "execute_result",
          "data": {
            "text/plain": [
              "{'id': '64217b58-2e1e-4080-8a9c-32dc31b4c160',\n",
              " 'runId': '0bc9375a-dca3-4771-aee3-a1cdb7e6f563',\n",
              " 'name': 'vehicles',\n",
              " 'timestamp': '2024-11-30T10:45:24.550Z',\n",
              " 'batchId': 0,\n",
              " 'numInputRows': 1138,\n",
              " 'inputRowsPerSecond': 0.0,\n",
              " 'processedRowsPerSecond': 93.0879345603272,\n",
              " 'durationMs': {'addBatch': 12105,\n",
              "  'commitOffsets': 29,\n",
              "  'getBatch': 9,\n",
              "  'latestOffset': 44,\n",
              "  'queryPlanning': 9,\n",
              "  'triggerExecution': 12225,\n",
              "  'walCommit': 27},\n",
              " 'stateOperators': [{'operatorName': 'dedupe',\n",
              "   'numRowsTotal': 666,\n",
              "   'numRowsUpdated': 666,\n",
              "   'allUpdatesTimeMs': 3120,\n",
              "   'numRowsRemoved': 0,\n",
              "   'allRemovalsTimeMs': 0,\n",
              "   'commitTimeMs': 5587,\n",
              "   'memoryUsedBytes': 337304,\n",
              "   'numRowsDroppedByWatermark': 0,\n",
              "   'numShufflePartitions': 200,\n",
              "   'numStateStoreInstances': 200,\n",
              "   'customMetrics': {'loadedMapCacheHitCount': 0,\n",
              "    'loadedMapCacheMissCount': 0,\n",
              "    'numDroppedDuplicateRows': 472,\n",
              "    'stateOnCurrentVersionSizeBytes': 308504}}],\n",
              " 'sources': [{'description': 'FileStreamSource[file:/content/landing/vehicles*]',\n",
              "   'startOffset': None,\n",
              "   'endOffset': {'logOffset': 0},\n",
              "   'latestOffset': None,\n",
              "   'numInputRows': 1138,\n",
              "   'inputRowsPerSecond': 0.0,\n",
              "   'processedRowsPerSecond': 93.0879345603272}],\n",
              " 'sink': {'description': 'MemorySink', 'numOutputRows': 666}}"
            ]
          },
          "metadata": {},
          "execution_count": 152
        }
      ]
    },
    {
      "cell_type": "code",
      "source": [
        "query.isActive"
      ],
      "metadata": {
        "id": "JdllqB8qgvUM",
        "outputId": "ff5cfb6a-64fd-417b-97cc-3f0ff6e98d70",
        "colab": {
          "base_uri": "https://localhost:8080/"
        }
      },
      "execution_count": 135,
      "outputs": [
        {
          "output_type": "execute_result",
          "data": {
            "text/plain": [
              "True"
            ]
          },
          "metadata": {},
          "execution_count": 135
        }
      ]
    },
    {
      "cell_type": "code",
      "source": [
        "query.stop()"
      ],
      "metadata": {
        "id": "a4BJT3ZQgnMH"
      },
      "execution_count": 153,
      "outputs": []
    },
    {
      "cell_type": "code",
      "source": [
        "spark.sql(\"select * from vehicles\").show()"
      ],
      "metadata": {
        "id": "wT9pNrwoXBi4",
        "outputId": "fb553ee2-9f28-481a-a278-6cc62f9f1cda",
        "colab": {
          "base_uri": "https://localhost:8080/"
        }
      },
      "execution_count": 154,
      "outputs": [
        {
          "output_type": "stream",
          "name": "stdout",
          "text": [
            "+-------+--------------------+--------------+--------+---------+-------+---------+----------+--------+---------------------+------------+---------+-------+-------------------+--------------------+\n",
            "|bearing|            block_id|current_status|      id|      lat|line_id|      lon|pattern_id|route_id|schedule_relationship|    shift_id|    speed|stop_id|          timestamp|             trip_id|\n",
            "+-------+--------------------+--------------+--------+---------+-------+---------+----------+--------+---------------------+------------+---------+-------+-------------------+--------------------+\n",
            "|    254|           2_2609-21|    STOPPED_AT| 41|1254|38.755657|   1721|-9.268077|  1721_0_1|  1721_0|            SCHEDULED|        2609|      0.0| 170931|2024-11-30 10:44:38|1721_0_1_1000_102...|\n",
            "|      0|           2_2613-21|    STOPPED_AT| 41|1811|38.760933|   1226|-9.261893|  1226_0_2|  1226_0|            SCHEDULED|        2613|      0.0| 170877|2024-11-30 10:45:01|1226_0_2_1030_105...|\n",
            "|    350|20241130-64020020...| IN_TRANSIT_TO|44|13573|38.684723|   4725|-9.175933|  4725_0_2|  4725_0|            SCHEDULED|113090000007|14.166667| 060021|2024-11-30 10:44:26|4725_0_2|3000|100...|\n",
            "|    164|             4031-21|    STOPPED_AT| 42|2364|  38.8061|   2703|-9.141102|  2703_0_3|  2703_0|            SCHEDULED|        4143|0.2777778| 071304|2024-11-30 10:44:00|2703_0_3|2|1|1015...|\n",
            "|    143|           2_2723-21| IN_TRANSIT_TO| 41|1234| 38.80332|   1250|-9.471073|  1250_0_2|  1250_0|            SCHEDULED|        2723|15.277778| 171850|2024-11-30 10:44:24|1250_0_2_1030_105...|\n",
            "|     45|             4515-21|   INCOMING_AT| 42|2561|38.788055|   2205|-9.176943|  2205_0_1|  2205_0|            SCHEDULED|        4515|10.277778| 111003|2024-11-30 10:45:00|2205_0_1|2|1|1010...|\n",
            "|    111|UNAVAILABLE_BLOCK_ID|    STOPPED_AT| 42|2114|39.013805|   2310| -8.96951|  2310_0_1|  2310_0|            SCHEDULED|        4062|      0.0| 180325|2024-11-30 10:44:55|2310_0_1|2|1|1000...|\n",
            "|    338|20241130-64020067...|    STOPPED_AT|44|12071| 38.70863|   4600|-8.981263|  4600_0_2|  4600_0|            SCHEDULED|121220000007|      0.0| 100085|2024-11-30 10:44:36|4600_0_2|3000|093...|\n",
            "|    304|             4804-21| IN_TRANSIT_TO| 42|2517|38.815296|   2769|-9.160283|  2769_1_2|  2769_1|            SCHEDULED|        4804|5.5555553| 071421|2024-11-30 10:44:38|2769_1_2|2|1|1020...|\n",
            "|     90|20241130-64020035...| IN_TRANSIT_TO|44|12743|38.524876|   4730|-8.895351|  4730_2_1|  4730_2|            SCHEDULED|113030000007|0.5555556| 160139|2024-11-30 10:45:07|4730_2_1|3000|093...|\n",
            "|    156|           2_2421-21|   INCOMING_AT| 41|1802|38.699085|   1119|-9.291437|  1119_0_1|  1119_0|            SCHEDULED|        2406| 8.333333| 120627|2024-11-30 10:45:01|1119_0_1_1000_102...|\n",
            "|    195|           2_2024-21| IN_TRANSIT_TO| 41|1279| 38.70532|   1713|-9.226888|  1713_0_2|  1713_0|            SCHEDULED|        2024|2.7777777| 120344|2024-11-30 10:44:56|1713_0_2_0930_095...|\n",
            "|    148|20241130-64020272...| IN_TRANSIT_TO|44|12672|38.738457|   4702| -8.96606|  4702_0_1|  4702_0|            SCHEDULED|123120000007|11.666667| 018346|2024-11-30 10:44:58|4702_0_1|3000|101...|\n",
            "|    253|20241130-64020081...| IN_TRANSIT_TO|44|12568|38.523445|   4422|-8.895535|  4422_0_1|  4422_0|            SCHEDULED|112230000007|3.0555556| 160351|2024-11-30 10:44:58|4422_0_1|3000|102...|\n",
            "|    235|      ESC_SAB_ES2058| IN_TRANSIT_TO| 43|2345|38.729763|   3703|-9.168462|  3703_0_2|  3703_0|            SCHEDULED|      ES2058|12.777778| 060395|2024-11-30 10:44:46|3703_0_2_1030_105...|\n",
            "|     51|           2_2703-21|   INCOMING_AT| 41|1406| 38.78219|   1631|-9.348127|  1631_0_1|  1631_0|            SCHEDULED|        2756| 9.166667| 170128|2024-11-30 10:44:59|1631_0_1_1000_102...|\n",
            "|      0|           2_2018-21|    STOPPED_AT| 41|1877|38.741318|   1707|-9.269467|  1707_0_2|  1707_0|            SCHEDULED|        2018|      0.0| 060440|2024-11-30 10:44:40|1707_0_2_0930_095...|\n",
            "|     30|           2_2311-21|   INCOMING_AT| 41|1221|38.707928|   1638|-9.354291|  1638_3_2|  1638_3|            SCHEDULED|        2320|      2.5| 050498|2024-11-30 10:45:06|1638_3_2_1030_105...|\n",
            "|      0|      ESC_SAB_ES1061|    STOPPED_AT| 43|2387|38.687374|   3508| -9.14694|  3508_0_1|  3508_0|            SCHEDULED|      ES1065|      0.0| 020955|2024-11-30 10:44:59|3508_0_1_1030_105...|\n",
            "|      0|           2_2213-21|    STOPPED_AT| 41|1305| 38.72427|   1520|-9.234705|  1520_0_1|  1520_0|            SCHEDULED|        2213|      0.0| 120033|2024-11-30 10:44:26|1520_0_1_1030_105...|\n",
            "+-------+--------------------+--------------+--------+---------+-------+---------+----------+--------+---------------------+------------+---------+-------+-------------------+--------------------+\n",
            "only showing top 20 rows\n",
            "\n"
          ]
        }
      ]
    },
    {
      "cell_type": "code",
      "source": [
        "!rm -rf /content/bronze"
      ],
      "metadata": {
        "id": "W1BCl7BCXo_v"
      },
      "execution_count": 27,
      "outputs": []
    },
    {
      "cell_type": "code",
      "source": [
        "from pyspark.sql.functions import *\n",
        "\n",
        "# watermark is necessary because of the aggregation\n",
        "transformed = stream.withWatermark(\"timestamp\", \"60 seconds\")\n",
        "agg = (transformed\n",
        "       .groupBy(window(transformed.timestamp, \"5 minutes\"), col(\"current_status\"))\n",
        "       .agg(min(transformed.timestamp).alias(\"init_timestamp\"), count(\"*\").alias(\"count\")))\n",
        "\n",
        "def insert_vehicles(df, batch_id):\n",
        "  #df2 = df.groupBy(\"window\").pivot(\"current_status\").sum(\"count\")\n",
        "  df.write.format(\"parquet\").mode(\"append\").save(\"/content/bronze/vehicles\")\n",
        "\n",
        "# using memory for testing\n",
        "query2 = (agg\n",
        "          .writeStream\n",
        "          .outputMode(\"append\")\n",
        "          .foreachBatch(insert_vehicles)\n",
        "          .option(\"checkpointLocation\", \"/content/bronze/checkpoint\")\n",
        "          .trigger(processingTime='20 seconds')\n",
        "          .start())"
      ],
      "metadata": {
        "id": "xyDkRdgLUZZt"
      },
      "execution_count": 155,
      "outputs": []
    },
    {
      "cell_type": "code",
      "source": [
        "query2.isActive"
      ],
      "metadata": {
        "id": "8fYWvXDKm4XR",
        "outputId": "7efc9448-15f1-47d0-cbf5-da0b18780e6d",
        "colab": {
          "base_uri": "https://localhost:8080/"
        }
      },
      "execution_count": 159,
      "outputs": [
        {
          "output_type": "execute_result",
          "data": {
            "text/plain": [
              "True"
            ]
          },
          "metadata": {},
          "execution_count": 159
        }
      ]
    },
    {
      "cell_type": "code",
      "source": [
        "spark.read.format(\"parquet\").load(\"/content/bronze/vehicles/*\").show(100, False)"
      ],
      "metadata": {
        "id": "d6xqFWyKdujI",
        "outputId": "c025b6f7-0328-4d3a-8d0a-fd92174bffd9",
        "colab": {
          "base_uri": "https://localhost:8080/"
        }
      },
      "execution_count": 162,
      "outputs": [
        {
          "output_type": "stream",
          "name": "stdout",
          "text": [
            "+------------------------------------------+--------------+-------------------+-----+\n",
            "|window                                    |current_status|init_timestamp     |count|\n",
            "+------------------------------------------+--------------+-------------------+-----+\n",
            "|{2024-11-30 10:40:00, 2024-11-30 10:45:00}|IN_TRANSIT_TO |2024-11-30 10:43:47|626  |\n",
            "|{2024-11-30 10:40:00, 2024-11-30 10:45:00}|INCOMING_AT   |2024-11-30 10:43:18|190  |\n",
            "|{2024-11-30 10:40:00, 2024-11-30 10:45:00}|STOPPED_AT    |2024-11-30 10:43:20|348  |\n",
            "+------------------------------------------+--------------+-------------------+-----+\n",
            "\n"
          ]
        }
      ]
    },
    {
      "cell_type": "markdown",
      "source": [
        "## Report\n",
        "- show vehicles by status in 5-min window time\n",
        "- one line per window time"
      ],
      "metadata": {
        "id": "62oGSmx4S8Ch"
      }
    },
    {
      "cell_type": "code",
      "source": [
        "def pivot_data(df: DataFrame):\n",
        "  result = df.orderBy(\"init_timestamp\").groupBy(\"window\").pivot(\"current_status\").sum(\"count\")\n",
        "  result.show(100, False)\n",
        "\n",
        "df = spark.read.format(\"parquet\").load(\"/content/bronze/vehicles/*\")\n",
        "pivot_data(df)"
      ],
      "metadata": {
        "id": "x38lvoysfKLy",
        "outputId": "7cdd768c-bce8-4b27-dc9f-78afe5bf2940",
        "colab": {
          "base_uri": "https://localhost:8080/"
        }
      },
      "execution_count": 163,
      "outputs": [
        {
          "output_type": "stream",
          "name": "stdout",
          "text": [
            "+------------------------------------------+-----------+-------------+----------+\n",
            "|window                                    |INCOMING_AT|IN_TRANSIT_TO|STOPPED_AT|\n",
            "+------------------------------------------+-----------+-------------+----------+\n",
            "|{2024-11-30 10:40:00, 2024-11-30 10:45:00}|190        |626          |348       |\n",
            "+------------------------------------------+-----------+-------------+----------+\n",
            "\n"
          ]
        }
      ]
    },
    {
      "cell_type": "code",
      "source": [
        "query2.stop()"
      ],
      "metadata": {
        "id": "pyDwzbdmO29f"
      },
      "execution_count": 164,
      "outputs": []
    },
    {
      "cell_type": "code",
      "source": [],
      "metadata": {
        "id": "3ETfknUmUeZg"
      },
      "execution_count": null,
      "outputs": []
    }
  ],
  "metadata": {
    "colab": {
      "provenance": [],
      "include_colab_link": true
    },
    "kernelspec": {
      "display_name": "Python 3",
      "name": "python3"
    },
    "language_info": {
      "name": "python"
    }
  },
  "nbformat": 4,
  "nbformat_minor": 0
}